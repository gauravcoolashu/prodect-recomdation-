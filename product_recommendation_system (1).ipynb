{
  "nbformat": 4,
  "nbformat_minor": 0,
  "metadata": {
    "kernelspec": {
      "display_name": "Python 3",
      "language": "python",
      "name": "python3"
    },
    "language_info": {
      "codemirror_mode": {
        "name": "ipython",
        "version": 3
      },
      "file_extension": ".py",
      "mimetype": "text/x-python",
      "name": "python",
      "nbconvert_exporter": "python",
      "pygments_lexer": "ipython3",
      "version": "3.8.3"
    },
    "colab": {
      "name": "product recommendation system.ipynb",
      "provenance": []
    }
  },
  "cells": [
    {
      "cell_type": "code",
      "metadata": {
        "id": "lRw-qMN15Qms"
      },
      "source": [
        "import pandas as pd\n",
        "import numpy as np\n",
        "import matplotlib.pyplot as plt\n",
        "get_ipython().run_line_magic('matplotlib', 'inline')\n",
        "#plt.style.use('ggplot')\n"
      ],
      "execution_count": 129,
      "outputs": []
    },
    {
      "cell_type": "code",
      "metadata": {
        "id": "Xtwt9gfV5Qm1",
        "outputId": "ee6ee5cc-1c90-45ac-8041-a93caa50baf7",
        "colab": {
          "base_uri": "https://localhost:8080/",
          "height": 91
        }
      },
      "source": [
        "# ## 1. Data Analysis\n",
        "\n",
        "# In[2]:\n",
        "\n",
        "\n",
        "data = pd.read_csv(r'/content/1429_1.csv')\n",
        "print(\"hhello kavya\")\n"
      ],
      "execution_count": 130,
      "outputs": [
        {
          "output_type": "stream",
          "text": [
            "hhello kavya\n"
          ],
          "name": "stdout"
        },
        {
          "output_type": "stream",
          "text": [
            "/usr/local/lib/python3.6/dist-packages/IPython/core/interactiveshell.py:2718: DtypeWarning: Columns (1,10) have mixed types.Specify dtype option on import or set low_memory=False.\n",
            "  interactivity=interactivity, compiler=compiler, result=result)\n"
          ],
          "name": "stderr"
        }
      ]
    },
    {
      "cell_type": "code",
      "metadata": {
        "id": "_9qTbDVn5Qm8",
        "outputId": "27926dc0-86a7-413a-98fe-a974b759a418",
        "colab": {
          "base_uri": "https://localhost:8080/",
          "height": 1000
        }
      },
      "source": [
        "data.head(5)"
      ],
      "execution_count": 131,
      "outputs": [
        {
          "output_type": "execute_result",
          "data": {
            "text/html": [
              "<div>\n",
              "<style scoped>\n",
              "    .dataframe tbody tr th:only-of-type {\n",
              "        vertical-align: middle;\n",
              "    }\n",
              "\n",
              "    .dataframe tbody tr th {\n",
              "        vertical-align: top;\n",
              "    }\n",
              "\n",
              "    .dataframe thead th {\n",
              "        text-align: right;\n",
              "    }\n",
              "</style>\n",
              "<table border=\"1\" class=\"dataframe\">\n",
              "  <thead>\n",
              "    <tr style=\"text-align: right;\">\n",
              "      <th></th>\n",
              "      <th>id</th>\n",
              "      <th>name</th>\n",
              "      <th>asins</th>\n",
              "      <th>brand</th>\n",
              "      <th>categories</th>\n",
              "      <th>keys</th>\n",
              "      <th>manufacturer</th>\n",
              "      <th>reviews.date</th>\n",
              "      <th>reviews.dateAdded</th>\n",
              "      <th>reviews.dateSeen</th>\n",
              "      <th>reviews.didPurchase</th>\n",
              "      <th>reviews.doRecommend</th>\n",
              "      <th>reviews.id</th>\n",
              "      <th>reviews.numHelpful</th>\n",
              "      <th>reviews.rating</th>\n",
              "      <th>reviews.sourceURLs</th>\n",
              "      <th>reviews.text</th>\n",
              "      <th>reviews.title</th>\n",
              "      <th>reviews.userCity</th>\n",
              "      <th>reviews.userProvince</th>\n",
              "      <th>reviews.username</th>\n",
              "    </tr>\n",
              "  </thead>\n",
              "  <tbody>\n",
              "    <tr>\n",
              "      <th>0</th>\n",
              "      <td>AVqkIhwDv8e3D1O-lebb</td>\n",
              "      <td>All-New Fire HD 8 Tablet, 8 HD Display, Wi-Fi, 16 GB - Includes Special Offers, Magenta</td>\n",
              "      <td>B01AHB9CN2</td>\n",
              "      <td>Amazon</td>\n",
              "      <td>Electronics,iPad &amp; Tablets,All Tablets,Fire Tablets,Tablets,Computers &amp; Tablets</td>\n",
              "      <td>841667104676,amazon/53004484,amazon/b01ahb9cn2,0841667104676,allnewfirehd8tablet8hddisplaywifi16gbincludesspecialoffersmagenta/5620406,allnewfirehd8tablet8hddisplaywifi16gbincludesspecialoffersmagenta/b01ahb9cn2</td>\n",
              "      <td>Amazon</td>\n",
              "      <td>2017-01-13T00:00:00.000Z</td>\n",
              "      <td>2017-07-03T23:33:15Z</td>\n",
              "      <td>2017-06-07T09:04:00.000Z,2017-04-30T00:45:00.000Z</td>\n",
              "      <td>NaN</td>\n",
              "      <td>True</td>\n",
              "      <td>NaN</td>\n",
              "      <td>0.0</td>\n",
              "      <td>5.0</td>\n",
              "      <td>http://reviews.bestbuy.com/3545/5620406/reviews.htm?format=embedded&amp;page=200,http://reviews.bestbuy.com/3545/5620406/reviews.htm?format=embedded&amp;page=166</td>\n",
              "      <td>This product so far has not disappointed. My children love to use it and I like the ability to monitor control what content they see with ease.</td>\n",
              "      <td>Kindle</td>\n",
              "      <td>NaN</td>\n",
              "      <td>NaN</td>\n",
              "      <td>Adapter</td>\n",
              "    </tr>\n",
              "    <tr>\n",
              "      <th>1</th>\n",
              "      <td>AVqkIhwDv8e3D1O-lebb</td>\n",
              "      <td>All-New Fire HD 8 Tablet, 8 HD Display, Wi-Fi, 16 GB - Includes Special Offers, Magenta</td>\n",
              "      <td>B01AHB9CN2</td>\n",
              "      <td>Amazon</td>\n",
              "      <td>Electronics,iPad &amp; Tablets,All Tablets,Fire Tablets,Tablets,Computers &amp; Tablets</td>\n",
              "      <td>841667104676,amazon/53004484,amazon/b01ahb9cn2,0841667104676,allnewfirehd8tablet8hddisplaywifi16gbincludesspecialoffersmagenta/5620406,allnewfirehd8tablet8hddisplaywifi16gbincludesspecialoffersmagenta/b01ahb9cn2</td>\n",
              "      <td>Amazon</td>\n",
              "      <td>2017-01-13T00:00:00.000Z</td>\n",
              "      <td>2017-07-03T23:33:15Z</td>\n",
              "      <td>2017-06-07T09:04:00.000Z,2017-04-30T00:45:00.000Z</td>\n",
              "      <td>NaN</td>\n",
              "      <td>True</td>\n",
              "      <td>NaN</td>\n",
              "      <td>0.0</td>\n",
              "      <td>5.0</td>\n",
              "      <td>http://reviews.bestbuy.com/3545/5620406/reviews.htm?format=embedded&amp;page=200,http://reviews.bestbuy.com/3545/5620406/reviews.htm?format=embedded&amp;page=167</td>\n",
              "      <td>great for beginner or experienced person. Bought as a gift and she loves it</td>\n",
              "      <td>very fast</td>\n",
              "      <td>NaN</td>\n",
              "      <td>NaN</td>\n",
              "      <td>truman</td>\n",
              "    </tr>\n",
              "    <tr>\n",
              "      <th>2</th>\n",
              "      <td>AVqkIhwDv8e3D1O-lebb</td>\n",
              "      <td>All-New Fire HD 8 Tablet, 8 HD Display, Wi-Fi, 16 GB - Includes Special Offers, Magenta</td>\n",
              "      <td>B01AHB9CN2</td>\n",
              "      <td>Amazon</td>\n",
              "      <td>Electronics,iPad &amp; Tablets,All Tablets,Fire Tablets,Tablets,Computers &amp; Tablets</td>\n",
              "      <td>841667104676,amazon/53004484,amazon/b01ahb9cn2,0841667104676,allnewfirehd8tablet8hddisplaywifi16gbincludesspecialoffersmagenta/5620406,allnewfirehd8tablet8hddisplaywifi16gbincludesspecialoffersmagenta/b01ahb9cn2</td>\n",
              "      <td>Amazon</td>\n",
              "      <td>2017-01-13T00:00:00.000Z</td>\n",
              "      <td>2017-07-03T23:33:15Z</td>\n",
              "      <td>2017-06-07T09:04:00.000Z,2017-04-30T00:45:00.000Z</td>\n",
              "      <td>NaN</td>\n",
              "      <td>True</td>\n",
              "      <td>NaN</td>\n",
              "      <td>0.0</td>\n",
              "      <td>5.0</td>\n",
              "      <td>http://reviews.bestbuy.com/3545/5620406/reviews.htm?format=embedded&amp;page=200,http://reviews.bestbuy.com/3545/5620406/reviews.htm?format=embedded&amp;page=167</td>\n",
              "      <td>Inexpensive tablet for him to use and learn on, step up from the NABI. He was thrilled with it, learn how to Skype on it already...</td>\n",
              "      <td>Beginner tablet for our 9 year old son.</td>\n",
              "      <td>NaN</td>\n",
              "      <td>NaN</td>\n",
              "      <td>DaveZ</td>\n",
              "    </tr>\n",
              "    <tr>\n",
              "      <th>3</th>\n",
              "      <td>AVqkIhwDv8e3D1O-lebb</td>\n",
              "      <td>All-New Fire HD 8 Tablet, 8 HD Display, Wi-Fi, 16 GB - Includes Special Offers, Magenta</td>\n",
              "      <td>B01AHB9CN2</td>\n",
              "      <td>Amazon</td>\n",
              "      <td>Electronics,iPad &amp; Tablets,All Tablets,Fire Tablets,Tablets,Computers &amp; Tablets</td>\n",
              "      <td>841667104676,amazon/53004484,amazon/b01ahb9cn2,0841667104676,allnewfirehd8tablet8hddisplaywifi16gbincludesspecialoffersmagenta/5620406,allnewfirehd8tablet8hddisplaywifi16gbincludesspecialoffersmagenta/b01ahb9cn2</td>\n",
              "      <td>Amazon</td>\n",
              "      <td>2017-01-13T00:00:00.000Z</td>\n",
              "      <td>2017-07-03T23:33:15Z</td>\n",
              "      <td>2017-06-07T09:04:00.000Z,2017-04-30T00:45:00.000Z</td>\n",
              "      <td>NaN</td>\n",
              "      <td>True</td>\n",
              "      <td>NaN</td>\n",
              "      <td>0.0</td>\n",
              "      <td>4.0</td>\n",
              "      <td>http://reviews.bestbuy.com/3545/5620406/reviews.htm?format=embedded&amp;page=200,http://reviews.bestbuy.com/3545/5620406/reviews.htm?format=embedded&amp;page=167</td>\n",
              "      <td>I've had my Fire HD 8 two weeks now and I love it. This tablet is a great value.We are Prime Members and that is where this tablet SHINES. I love being able to easily access all of the Prime content as well as movies you can download and watch laterThis has a 1280/800 screen which has some really nice look to it its nice and crisp and very bright infact it is brighter then the ipad pro costing $900 base model. The build on this fire is INSANELY AWESOME running at only 7.7mm thick and the smooth glossy feel on the back it is really amazing to hold its like the futuristic tab in ur hands.</td>\n",
              "      <td>Good!!!</td>\n",
              "      <td>NaN</td>\n",
              "      <td>NaN</td>\n",
              "      <td>Shacks</td>\n",
              "    </tr>\n",
              "    <tr>\n",
              "      <th>4</th>\n",
              "      <td>AVqkIhwDv8e3D1O-lebb</td>\n",
              "      <td>All-New Fire HD 8 Tablet, 8 HD Display, Wi-Fi, 16 GB - Includes Special Offers, Magenta</td>\n",
              "      <td>B01AHB9CN2</td>\n",
              "      <td>Amazon</td>\n",
              "      <td>Electronics,iPad &amp; Tablets,All Tablets,Fire Tablets,Tablets,Computers &amp; Tablets</td>\n",
              "      <td>841667104676,amazon/53004484,amazon/b01ahb9cn2,0841667104676,allnewfirehd8tablet8hddisplaywifi16gbincludesspecialoffersmagenta/5620406,allnewfirehd8tablet8hddisplaywifi16gbincludesspecialoffersmagenta/b01ahb9cn2</td>\n",
              "      <td>Amazon</td>\n",
              "      <td>2017-01-12T00:00:00.000Z</td>\n",
              "      <td>2017-07-03T23:33:15Z</td>\n",
              "      <td>2017-06-07T09:04:00.000Z,2017-04-30T00:45:00.000Z</td>\n",
              "      <td>NaN</td>\n",
              "      <td>True</td>\n",
              "      <td>NaN</td>\n",
              "      <td>0.0</td>\n",
              "      <td>5.0</td>\n",
              "      <td>http://reviews.bestbuy.com/3545/5620406/reviews.htm?format=embedded&amp;page=200,http://reviews.bestbuy.com/3545/5620406/reviews.htm?format=embedded&amp;page=167</td>\n",
              "      <td>I bought this for my grand daughter when she comes over to visit. I set it up with her as the user, entered her age and name and now Amazon makes sure that she only accesses sites and content that are appropriate to her age. Simple to do and she loves the capabilities. I also bought and installed a 64gig SD card which gives this little tablet plenty of storage. For the price I think this tablet is best one out there. You can spend hundreds of dollars more for additional speed and capacity but when it comes to the basics this tablets does everything that most people will ever need at a fraction of the cost.</td>\n",
              "      <td>Fantastic Tablet for kids</td>\n",
              "      <td>NaN</td>\n",
              "      <td>NaN</td>\n",
              "      <td>explore42</td>\n",
              "    </tr>\n",
              "  </tbody>\n",
              "</table>\n",
              "</div>"
            ],
            "text/plain": [
              "                     id  ... reviews.username\n",
              "0  AVqkIhwDv8e3D1O-lebb  ...  Adapter        \n",
              "1  AVqkIhwDv8e3D1O-lebb  ...  truman         \n",
              "2  AVqkIhwDv8e3D1O-lebb  ...  DaveZ          \n",
              "3  AVqkIhwDv8e3D1O-lebb  ...  Shacks         \n",
              "4  AVqkIhwDv8e3D1O-lebb  ...  explore42      \n",
              "\n",
              "[5 rows x 21 columns]"
            ]
          },
          "metadata": {
            "tags": []
          },
          "execution_count": 131
        }
      ]
    },
    {
      "cell_type": "code",
      "metadata": {
        "id": "PJOJ3QF25QnD",
        "outputId": "5faf5e3d-56ba-42ca-d898-b161353a1c9f",
        "colab": {
          "base_uri": "https://localhost:8080/",
          "height": 53
        }
      },
      "source": [
        "data['brand'].unique()\n"
      ],
      "execution_count": 132,
      "outputs": [
        {
          "output_type": "execute_result",
          "data": {
            "text/plain": [
              "array(['Amazon', 'Amazon Fire', 'Amazon Echo', 'Amazon Coco T',\n",
              "       'Amazon Fire Tv', 'Amazon Digital Services Inc.'], dtype=object)"
            ]
          },
          "metadata": {
            "tags": []
          },
          "execution_count": 132
        }
      ]
    },
    {
      "cell_type": "code",
      "metadata": {
        "id": "WugGc7TA5QnJ",
        "outputId": "b840a078-334b-4a94-dfc5-f07989f1cdf4",
        "colab": {
          "base_uri": "https://localhost:8080/",
          "height": 521
        }
      },
      "source": [
        "data.info()\n"
      ],
      "execution_count": 133,
      "outputs": [
        {
          "output_type": "stream",
          "text": [
            "<class 'pandas.core.frame.DataFrame'>\n",
            "RangeIndex: 34660 entries, 0 to 34659\n",
            "Data columns (total 21 columns):\n",
            " #   Column                Non-Null Count  Dtype  \n",
            "---  ------                --------------  -----  \n",
            " 0   id                    34660 non-null  object \n",
            " 1   name                  27900 non-null  object \n",
            " 2   asins                 34658 non-null  object \n",
            " 3   brand                 34660 non-null  object \n",
            " 4   categories            34660 non-null  object \n",
            " 5   keys                  34660 non-null  object \n",
            " 6   manufacturer          34660 non-null  object \n",
            " 7   reviews.date          34621 non-null  object \n",
            " 8   reviews.dateAdded     24039 non-null  object \n",
            " 9   reviews.dateSeen      34660 non-null  object \n",
            " 10  reviews.didPurchase   1 non-null      object \n",
            " 11  reviews.doRecommend   34066 non-null  object \n",
            " 12  reviews.id            1 non-null      float64\n",
            " 13  reviews.numHelpful    34131 non-null  float64\n",
            " 14  reviews.rating        34627 non-null  float64\n",
            " 15  reviews.sourceURLs    34660 non-null  object \n",
            " 16  reviews.text          34659 non-null  object \n",
            " 17  reviews.title         34655 non-null  object \n",
            " 18  reviews.userCity      0 non-null      float64\n",
            " 19  reviews.userProvince  0 non-null      float64\n",
            " 20  reviews.username      34658 non-null  object \n",
            "dtypes: float64(5), object(16)\n",
            "memory usage: 5.6+ MB\n"
          ],
          "name": "stdout"
        }
      ]
    },
    {
      "cell_type": "code",
      "metadata": {
        "id": "bMirV-sL5QnS",
        "outputId": "626ca7c5-b14b-413a-d878-362e05f0dcd4",
        "colab": {
          "base_uri": "https://localhost:8080/",
          "height": 297
        }
      },
      "source": [
        "data.describe()"
      ],
      "execution_count": 134,
      "outputs": [
        {
          "output_type": "execute_result",
          "data": {
            "text/html": [
              "<div>\n",
              "<style scoped>\n",
              "    .dataframe tbody tr th:only-of-type {\n",
              "        vertical-align: middle;\n",
              "    }\n",
              "\n",
              "    .dataframe tbody tr th {\n",
              "        vertical-align: top;\n",
              "    }\n",
              "\n",
              "    .dataframe thead th {\n",
              "        text-align: right;\n",
              "    }\n",
              "</style>\n",
              "<table border=\"1\" class=\"dataframe\">\n",
              "  <thead>\n",
              "    <tr style=\"text-align: right;\">\n",
              "      <th></th>\n",
              "      <th>reviews.id</th>\n",
              "      <th>reviews.numHelpful</th>\n",
              "      <th>reviews.rating</th>\n",
              "      <th>reviews.userCity</th>\n",
              "      <th>reviews.userProvince</th>\n",
              "    </tr>\n",
              "  </thead>\n",
              "  <tbody>\n",
              "    <tr>\n",
              "      <th>count</th>\n",
              "      <td>1.0</td>\n",
              "      <td>34131.000000</td>\n",
              "      <td>34627.000000</td>\n",
              "      <td>0.0</td>\n",
              "      <td>0.0</td>\n",
              "    </tr>\n",
              "    <tr>\n",
              "      <th>mean</th>\n",
              "      <td>111372787.0</td>\n",
              "      <td>0.630248</td>\n",
              "      <td>4.584573</td>\n",
              "      <td>NaN</td>\n",
              "      <td>NaN</td>\n",
              "    </tr>\n",
              "    <tr>\n",
              "      <th>std</th>\n",
              "      <td>NaN</td>\n",
              "      <td>13.215775</td>\n",
              "      <td>0.735653</td>\n",
              "      <td>NaN</td>\n",
              "      <td>NaN</td>\n",
              "    </tr>\n",
              "    <tr>\n",
              "      <th>min</th>\n",
              "      <td>111372787.0</td>\n",
              "      <td>0.000000</td>\n",
              "      <td>1.000000</td>\n",
              "      <td>NaN</td>\n",
              "      <td>NaN</td>\n",
              "    </tr>\n",
              "    <tr>\n",
              "      <th>25%</th>\n",
              "      <td>111372787.0</td>\n",
              "      <td>0.000000</td>\n",
              "      <td>4.000000</td>\n",
              "      <td>NaN</td>\n",
              "      <td>NaN</td>\n",
              "    </tr>\n",
              "    <tr>\n",
              "      <th>50%</th>\n",
              "      <td>111372787.0</td>\n",
              "      <td>0.000000</td>\n",
              "      <td>5.000000</td>\n",
              "      <td>NaN</td>\n",
              "      <td>NaN</td>\n",
              "    </tr>\n",
              "    <tr>\n",
              "      <th>75%</th>\n",
              "      <td>111372787.0</td>\n",
              "      <td>0.000000</td>\n",
              "      <td>5.000000</td>\n",
              "      <td>NaN</td>\n",
              "      <td>NaN</td>\n",
              "    </tr>\n",
              "    <tr>\n",
              "      <th>max</th>\n",
              "      <td>111372787.0</td>\n",
              "      <td>814.000000</td>\n",
              "      <td>5.000000</td>\n",
              "      <td>NaN</td>\n",
              "      <td>NaN</td>\n",
              "    </tr>\n",
              "  </tbody>\n",
              "</table>\n",
              "</div>"
            ],
            "text/plain": [
              "        reviews.id  reviews.numHelpful  ...  reviews.userCity  reviews.userProvince\n",
              "count  1.0          34131.000000        ...  0.0               0.0                 \n",
              "mean   111372787.0  0.630248            ... NaN               NaN                  \n",
              "std   NaN           13.215775           ... NaN               NaN                  \n",
              "min    111372787.0  0.000000            ... NaN               NaN                  \n",
              "25%    111372787.0  0.000000            ... NaN               NaN                  \n",
              "50%    111372787.0  0.000000            ... NaN               NaN                  \n",
              "75%    111372787.0  0.000000            ... NaN               NaN                  \n",
              "max    111372787.0  814.000000          ... NaN               NaN                  \n",
              "\n",
              "[8 rows x 5 columns]"
            ]
          },
          "metadata": {
            "tags": []
          },
          "execution_count": 134
        }
      ]
    },
    {
      "cell_type": "code",
      "metadata": {
        "id": "VSu6qu5p5QnY"
      },
      "source": [
        "data.columns = ['id', 'name', 'asins', 'brand', 'categories', 'keys', 'manufacturer','date', 'dateAdded', 'dateSeen',\n",
        "       'didPurchase', 'doRecommend', 'id','numHelpful', 'rating', 'sourceURLs','text', 'title', 'userCity',\n",
        "       'userProvince', 'username']"
      ],
      "execution_count": 135,
      "outputs": []
    },
    {
      "cell_type": "code",
      "metadata": {
        "id": "lq7avvLG5Qne"
      },
      "source": [
        "data.drop(['dateAdded','dateSeen','userCity','userProvince','username','sourceURLs','didPurchase'],axis=1,inplace=True)"
      ],
      "execution_count": 136,
      "outputs": []
    },
    {
      "cell_type": "code",
      "metadata": {
        "id": "y-rqqwlD5Qnj",
        "outputId": "489c4b7d-255d-4830-a6d4-0ce9e486711a",
        "colab": {
          "base_uri": "https://localhost:8080/",
          "height": 287
        }
      },
      "source": [
        "# ## 2. Data Cleaning\n",
        "data.isnull().sum()\n"
      ],
      "execution_count": 137,
      "outputs": [
        {
          "output_type": "execute_result",
          "data": {
            "text/plain": [
              "id              0    \n",
              "name            6760 \n",
              "asins           2    \n",
              "brand           0    \n",
              "categories      0    \n",
              "keys            0    \n",
              "manufacturer    0    \n",
              "date            39   \n",
              "doRecommend     594  \n",
              "id              34659\n",
              "numHelpful      529  \n",
              "rating          33   \n",
              "text            1    \n",
              "title           5    \n",
              "dtype: int64"
            ]
          },
          "metadata": {
            "tags": []
          },
          "execution_count": 137
        }
      ]
    },
    {
      "cell_type": "code",
      "metadata": {
        "id": "6HFgewOU5Qno"
      },
      "source": [
        "data.drop(labels=['id'],axis=1,inplace=True)"
      ],
      "execution_count": 138,
      "outputs": []
    },
    {
      "cell_type": "code",
      "metadata": {
        "id": "M2unQp7k5Qnt",
        "outputId": "b3989c22-1354-4fc7-fd42-cb8f9c324a2f",
        "colab": {
          "base_uri": "https://localhost:8080/",
          "height": 251
        }
      },
      "source": [
        "data.isnull().sum()"
      ],
      "execution_count": 139,
      "outputs": [
        {
          "output_type": "execute_result",
          "data": {
            "text/plain": [
              "name            6760\n",
              "asins           2   \n",
              "brand           0   \n",
              "categories      0   \n",
              "keys            0   \n",
              "manufacturer    0   \n",
              "date            39  \n",
              "doRecommend     594 \n",
              "numHelpful      529 \n",
              "rating          33  \n",
              "text            1   \n",
              "title           5   \n",
              "dtype: int64"
            ]
          },
          "metadata": {
            "tags": []
          },
          "execution_count": 139
        }
      ]
    },
    {
      "cell_type": "code",
      "metadata": {
        "id": "1Vf4wXhk5Qny"
      },
      "source": [
        "# ## 3. Data Visualization\n",
        "\n",
        "# ### Customer Ratings Visualization\n"
      ],
      "execution_count": 140,
      "outputs": []
    },
    {
      "cell_type": "code",
      "metadata": {
        "id": "6-9jKoDR5Qn3",
        "outputId": "0a011343-2e5a-4f90-8280-633d3bbd1b63",
        "colab": {
          "base_uri": "https://localhost:8080/",
          "height": 540
        }
      },
      "source": [
        "star = data['rating'].value_counts()\n",
        "print(\"Rating distribution\")\n",
        "print(star)\n",
        "star.sort_index(inplace=True)\n",
        "star.plot(kind='bar',title='Customer ratings',figsize=(12,6),edgecolor='black',linewidth=1.2)\n"
      ],
      "execution_count": 141,
      "outputs": [
        {
          "output_type": "stream",
          "text": [
            "Rating distribution\n",
            "5.0    23775\n",
            "4.0    8541 \n",
            "3.0    1499 \n",
            "1.0    410  \n",
            "2.0    402  \n",
            "Name: rating, dtype: int64\n"
          ],
          "name": "stdout"
        },
        {
          "output_type": "execute_result",
          "data": {
            "text/plain": [
              "<matplotlib.axes._subplots.AxesSubplot at 0x7fed224e3a58>"
            ]
          },
          "metadata": {
            "tags": []
          },
          "execution_count": 141
        },
        {
          "output_type": "display_data",
          "data": {
            "image/png": "[encoded data removed]",
            "text/plain": [
              "<Figure size 864x432 with 1 Axes>"
            ]
          },
          "metadata": {
            "tags": [],
            "needs_background": "light"
          }
        }
      ]
    },
    {
      "cell_type": "code",
      "metadata": {
        "id": "bp-04YCX5Qn8"
      },
      "source": [
        "# ### Brands and their reviews visualizations\n"
      ],
      "execution_count": 142,
      "outputs": []
    },
    {
      "cell_type": "code",
      "metadata": {
        "id": "p6VVB1Xx5QoB",
        "outputId": "c37c30d5-a6a9-4fd7-ab5c-e283971a228f",
        "colab": {
          "base_uri": "https://localhost:8080/",
          "height": 457
        }
      },
      "source": [
        "brands = data['brand'].value_counts()\n",
        "brands_less_ratings = data[data['rating']<3.0]\n",
        "brands_less_ratings = brands_less_ratings['brand'].value_counts()\n",
        "fig = plt.figure()\n",
        "ax = fig.add_subplot(221)\n",
        "ax2 = fig.add_subplot(222,sharex=ax, sharey=ax)\n",
        "ax.set_title('Brands with most Reviews',color = 'black')\n",
        "ax2.set_title('Brands with reviews less than 3.0',color = 'black')\n",
        "brands.plot(kind='bar',edgecolor='black',linewidth=1.2,ax = ax, figsize=(10,10))\n",
        "brands_less_ratings.plot(kind='bar',edgecolor='black',linewidth=1.2,ax = ax2,figsize=(10,10))\n",
        "plt.tight_layout()\n",
        "plt.show()\n"
      ],
      "execution_count": 143,
      "outputs": [
        {
          "output_type": "display_data",
          "data": {
            "image/png": "[encoded data removed]",
            "text/plain": [
              "<Figure size 720x720 with 2 Axes>"
            ]
          },
          "metadata": {
            "tags": [],
            "needs_background": "light"
          }
        }
      ]
    },
    {
      "cell_type": "code",
      "metadata": {
        "id": "F4HmDp3a5QoG",
        "outputId": "c6d30885-d072-4722-966a-d8920ac4db1b",
        "colab": {
          "base_uri": "https://localhost:8080/",
          "height": 1000
        }
      },
      "source": [
        "# ### Most reviewd/rated brand Visualization\n",
        "\n",
        "# In[14]:\n",
        "\n",
        "\n",
        "names = data['name'].value_counts()\n",
        "names = names[names>1000]\n",
        "print('Most Reviewed Products')\n",
        "print(names)\n",
        "names.plot(kind = 'bar')"
      ],
      "execution_count": 144,
      "outputs": [
        {
          "output_type": "stream",
          "text": [
            "Most Reviewed Products\n",
            "Fire Tablet, 7 Display, Wi-Fi, 8 GB - Includes Special Offers, Magenta                                       10966\n",
            "Echo (White),,,\\r\\nEcho (White),,,                                                                           3309 \n",
            "Amazon Kindle Paperwhite - eBook reader - 4 GB - 6 monochrome Paperwhite - touchscreen - Wi-Fi - black,,,    3176 \n",
            "All-New Fire HD 8 Tablet, 8 HD Display, Wi-Fi, 16 GB - Includes Special Offers, Magenta                      2814 \n",
            "Amazon Fire Tv,,,\\r\\nAmazon Fire Tv,,,                                                                       2527 \n",
            "Fire Kids Edition Tablet, 7 Display, Wi-Fi, 16 GB, Green Kid-Proof Case                                      1685 \n",
            "Brand New Amazon Kindle Fire 16gb 7 Ips Display Tablet Wifi 16 Gb Blue,,,                                    1038 \n",
            "Name: name, dtype: int64\n"
          ],
          "name": "stdout"
        },
        {
          "output_type": "execute_result",
          "data": {
            "text/plain": [
              "<matplotlib.axes._subplots.AxesSubplot at 0x7fed403b7208>"
            ]
          },
          "metadata": {
            "tags": []
          },
          "execution_count": 144
        },
        {
          "output_type": "stream",
          "text": [
            "/usr/local/lib/python3.6/dist-packages/matplotlib/backends/backend_agg.py:214: RuntimeWarning: Glyph 13 missing from current font.\n",
            "  font.set_text(s, 0.0, flags=flags)\n",
            "/usr/local/lib/python3.6/dist-packages/matplotlib/backends/backend_agg.py:183: RuntimeWarning: Glyph 13 missing from current font.\n",
            "  font.set_text(s, 0, flags=flags)\n"
          ],
          "name": "stderr"
        },
        {
          "output_type": "display_data",
          "data": {
            "image/png": "[encoded data removed]",
            "text/plain": [
              "<Figure size 432x288 with 1 Axes>"
            ]
          },
          "metadata": {
            "tags": [],
            "needs_background": "light"
          }
        }
      ]
    },
    {
      "cell_type": "code",
      "metadata": {
        "id": "QUeUxg-U5QoL"
      },
      "source": [
        "# ## NPS Score\n",
        "# Net Promoters Score(NPS) is a method to evaluate customer satisfaction and loyalty based on their ratings on the product they've purchased. \n",
        "# * Count Products with Ratings less than 3.0 - **Detractors**\n",
        "# * Count Products with Rating = 4 - **Passive** \n",
        "# * Count Products with Ratings = 5 - **Promoter**\n",
        "# \n",
        "# According to Recent Study:\n",
        "# \n",
        "#     * NPS Score of Apple      : 72\n",
        "#     * NPS Score of Netflix    : 68\n",
        "#     * NPS Score of Starbucks* : 77\n",
        "#    \n",
        "# https://www.retently.com/blog/companies-high-nps/\n",
        "#     \n",
        "# #### Formula: \n",
        "# NPS = (Promoters - Detractors) / Total ratings * 100 "
      ],
      "execution_count": 145,
      "outputs": []
    },
    {
      "cell_type": "code",
      "metadata": {
        "id": "jo4zVkWj5QoQ",
        "outputId": "391aa9e6-6f59-477c-d33e-e048db7b83e7",
        "colab": {
          "base_uri": "https://localhost:8080/",
          "height": 35
        }
      },
      "source": [
        "\n",
        "NPS_score = round (100*((star.loc[5])-sum(star.loc[1:3]))/sum(star.loc[:]),2)\n",
        "print (\" NPS score of Amazon from this dataset is : \"  + str(NPS_score))\n"
      ],
      "execution_count": 146,
      "outputs": [
        {
          "output_type": "stream",
          "text": [
            " NPS score of Amazon from this dataset is : 61.99\n"
          ],
          "name": "stdout"
        }
      ]
    },
    {
      "cell_type": "code",
      "metadata": {
        "id": "6sNWF-J95QoW"
      },
      "source": [
        "# ## 4. Product Data Analysis and Visualization\n"
      ],
      "execution_count": 147,
      "outputs": []
    },
    {
      "cell_type": "code",
      "metadata": {
        "id": "Xptb8I6_5Qob"
      },
      "source": [
        "kindle = data[data.name=='Amazon Kindle Paperwhite - eBook reader - 4 GB - 6 monochrome Paperwhite - touchscreen - Wi-Fi - black,,,']\n"
      ],
      "execution_count": 148,
      "outputs": []
    },
    {
      "cell_type": "code",
      "metadata": {
        "id": "2Vr22m4l5Qof",
        "outputId": "b542da2e-f7e0-400d-ef1a-e7795d3cbf6d",
        "colab": {
          "base_uri": "https://localhost:8080/",
          "height": 251
        }
      },
      "source": [
        "kindle.isnull().sum()"
      ],
      "execution_count": 149,
      "outputs": [
        {
          "output_type": "execute_result",
          "data": {
            "text/plain": [
              "name            0\n",
              "asins           0\n",
              "brand           0\n",
              "categories      0\n",
              "keys            0\n",
              "manufacturer    0\n",
              "date            0\n",
              "doRecommend     0\n",
              "numHelpful      0\n",
              "rating          0\n",
              "text            0\n",
              "title           0\n",
              "dtype: int64"
            ]
          },
          "metadata": {
            "tags": []
          },
          "execution_count": 149
        }
      ]
    },
    {
      "cell_type": "code",
      "metadata": {
        "id": "Quc8weNf5Qok"
      },
      "source": [
        "# ### Kindle Ratings Visualization"
      ],
      "execution_count": 150,
      "outputs": []
    },
    {
      "cell_type": "code",
      "metadata": {
        "id": "bq9-C-im5Qoo",
        "outputId": "9fb85fdc-4730-4c19-d4e3-df8fb4a38e96",
        "colab": {
          "base_uri": "https://localhost:8080/",
          "height": 414
        }
      },
      "source": [
        "kindle_ratings = kindle['rating'].value_counts()\n",
        "kindle_ratings.sort_index(inplace=True)\n",
        "#better NPS than overall amazon\n",
        "kindle_ratings.plot(kind='bar',title='Kindle customer ratings',figsize=(6,6),x='ratings',y='user_count')"
      ],
      "execution_count": 151,
      "outputs": [
        {
          "output_type": "execute_result",
          "data": {
            "text/plain": [
              "<matplotlib.axes._subplots.AxesSubplot at 0x7fed223860f0>"
            ]
          },
          "metadata": {
            "tags": []
          },
          "execution_count": 151
        },
        {
          "output_type": "display_data",
          "data": {
            "image/png": "[encoded data removed]",
            "text/plain": [
              "<Figure size 432x432 with 1 Axes>"
            ]
          },
          "metadata": {
            "tags": [],
            "needs_background": "light"
          }
        }
      ]
    },
    {
      "cell_type": "code",
      "metadata": {
        "id": "2UtIIFfN5Qos",
        "outputId": "875f298b-c522-4323-ab9c-8951105be84e",
        "colab": {
          "base_uri": "https://localhost:8080/",
          "height": 35
        }
      },
      "source": [
        "Kindle_NPS_score = round (100*(kindle_ratings[5]-sum(kindle_ratings[1:3]))/sum(kindle_ratings),2)\n",
        "print (\" NPS score of Kindle is : \"  + str(Kindle_NPS_score))"
      ],
      "execution_count": 152,
      "outputs": [
        {
          "output_type": "stream",
          "text": [
            " NPS score of Kindle is : 77.08\n"
          ],
          "name": "stdout"
        }
      ]
    },
    {
      "cell_type": "code",
      "metadata": {
        "id": "nq6Pf3dB5Qo2"
      },
      "source": [
        "# ### Kindle Recommendation suggestion from the dataset"
      ],
      "execution_count": 153,
      "outputs": []
    },
    {
      "cell_type": "code",
      "metadata": {
        "id": "0SJPXHNh5Qo7",
        "outputId": "713da9ac-4a98-4382-ec43-c4684bc06f80",
        "colab": {
          "base_uri": "https://localhost:8080/",
          "height": 299
        }
      },
      "source": [
        "rec = kindle.doRecommend.value_counts()\n",
        "rec.plot(kind = 'bar', style='Solarize_Light2')"
      ],
      "execution_count": 154,
      "outputs": [
        {
          "output_type": "execute_result",
          "data": {
            "text/plain": [
              "<matplotlib.axes._subplots.AxesSubplot at 0x7fed222e2ac8>"
            ]
          },
          "metadata": {
            "tags": []
          },
          "execution_count": 154
        },
        {
          "output_type": "display_data",
          "data": {
            "image/png": "[encoded data removed]",
            "text/plain": [
              "<Figure size 432x288 with 1 Axes>"
            ]
          },
          "metadata": {
            "tags": [],
            "needs_background": "light"
          }
        }
      ]
    },
    {
      "cell_type": "code",
      "metadata": {
        "id": "WSe_-yXi5QpB",
        "outputId": "ccc395a6-2c5c-4cef-c649-fba1ed52890d",
        "colab": {
          "base_uri": "https://localhost:8080/",
          "height": 448
        }
      },
      "source": [
        "kindle.rating.hist(by=kindle.doRecommend,figsize=(12,6))"
      ],
      "execution_count": 155,
      "outputs": [
        {
          "output_type": "execute_result",
          "data": {
            "text/plain": [
              "array([<matplotlib.axes._subplots.AxesSubplot object at 0x7fed222d1d68>,\n",
              "       <matplotlib.axes._subplots.AxesSubplot object at 0x7fed2cf44a20>],\n",
              "      dtype=object)"
            ]
          },
          "metadata": {
            "tags": []
          },
          "execution_count": 155
        },
        {
          "output_type": "display_data",
          "data": {
            "image/png": "[encoded data removed]",
            "text/plain": [
              "<Figure size 864x432 with 2 Axes>"
            ]
          },
          "metadata": {
            "tags": [],
            "needs_background": "light"
          }
        }
      ]
    },
    {
      "cell_type": "code",
      "metadata": {
        "id": "sdJRpk5I5QpG"
      },
      "source": [
        "# ### NPS Score for the Product"
      ],
      "execution_count": 156,
      "outputs": []
    },
    {
      "cell_type": "code",
      "metadata": {
        "id": "k7tfVwev5QpK",
        "outputId": "47d64ae8-6ddb-4f42-8b85-dc6916befdd8",
        "colab": {
          "base_uri": "https://localhost:8080/",
          "height": 71
        }
      },
      "source": [
        "plus_kindle = kindle[kindle.doRecommend==True].rating.value_counts()\n",
        "plus_kindle.sort_index(inplace=True)\n",
        "recomm_NPS = round(100*(sum(plus_kindle[4:5])-sum(plus_kindle[1:2]))/sum(plus_kindle),2)\n",
        "minus_kindle = kindle[kindle.doRecommend==False].rating.value_counts()\n",
        "minus_kindle.sort_index(inplace=True)\n",
        "notrecomm_NPS = round(100*(sum(minus_kindle[4:5])-sum(minus_kindle[1:2]))/sum(minus_kindle),2)\n",
        "print(\"Those who recommend amazon kindle generate high NPS score of \" + str(recomm_NPS))\n",
        "print(\"Those who DO NOT recommend kindle produce a NPS score of \" + str(notrecomm_NPS))\n",
        "print(\" ~ pretty much correct definition of NPS score\")"
      ],
      "execution_count": 157,
      "outputs": [
        {
          "output_type": "stream",
          "text": [
            "Those who recommend amazon kindle generate high NPS score of 98.23\n",
            "Those who DO NOT recommend kindle produce a NPS score of -20.0\n",
            " ~ pretty much correct definition of NPS score\n"
          ],
          "name": "stdout"
        }
      ]
    },
    {
      "cell_type": "code",
      "metadata": {
        "id": "8i4_vp9E5QpO"
      },
      "source": [
        "# ### Month wise analysis over the Kindle Product"
      ],
      "execution_count": 158,
      "outputs": []
    },
    {
      "cell_type": "code",
      "metadata": {
        "id": "YtWAWB_Y5QpS",
        "outputId": "9884f0fb-b6b0-4ca1-afc3-9035080189c5",
        "colab": {
          "base_uri": "https://localhost:8080/",
          "height": 520
        }
      },
      "source": [
        "kindle['temp'] = kindle.date.apply(lambda x : pd.to_datetime(x))\n",
        "kindle_review_dates = kindle.date.value_counts()\n",
        "kindle_review_dates.sort_index(inplace=True)\n",
        "kindle_review_dates.plot(kind='area',figsize=(12,6))"
      ],
      "execution_count": 159,
      "outputs": [
        {
          "output_type": "stream",
          "text": [
            "/usr/local/lib/python3.6/dist-packages/ipykernel_launcher.py:1: SettingWithCopyWarning: \n",
            "A value is trying to be set on a copy of a slice from a DataFrame.\n",
            "Try using .loc[row_indexer,col_indexer] = value instead\n",
            "\n",
            "See the caveats in the documentation: https://pandas.pydata.org/pandas-docs/stable/user_guide/indexing.html#returning-a-view-versus-a-copy\n",
            "  \"\"\"Entry point for launching an IPython kernel.\n"
          ],
          "name": "stderr"
        },
        {
          "output_type": "execute_result",
          "data": {
            "text/plain": [
              "<matplotlib.axes._subplots.AxesSubplot at 0x7fed251d5f98>"
            ]
          },
          "metadata": {
            "tags": []
          },
          "execution_count": 159
        },
        {
          "output_type": "display_data",
          "data": {
            "image/png": "[encoded data removed]",
            "text/plain": [
              "<Figure size 864x432 with 1 Axes>"
            ]
          },
          "metadata": {
            "tags": [],
            "needs_background": "light"
          }
        }
      ]
    },
    {
      "cell_type": "code",
      "metadata": {
        "id": "Qg-7w9Mn5QpY",
        "outputId": "e36f21df-8873-4da4-9138-fddd1f0ddba1",
        "colab": {
          "base_uri": "https://localhost:8080/",
          "height": 215
        }
      },
      "source": [
        "rating_perdate = kindle_review_dates.sort_values(ascending=False)\n",
        "peakrating = rating_perdate[:20]\n",
        "peak_month=[]\n",
        "for x in peakrating.index:\n",
        "    peak_month.append(pd.to_datetime(x).month)\n",
        "pd.Series(peak_month).value_counts()\n",
        "\n"
      ],
      "execution_count": 160,
      "outputs": [
        {
          "output_type": "execute_result",
          "data": {
            "text/plain": [
              "1     8\n",
              "12    3\n",
              "6     2\n",
              "10    1\n",
              "9     1\n",
              "8     1\n",
              "7     1\n",
              "5     1\n",
              "3     1\n",
              "2     1\n",
              "dtype: int64"
            ]
          },
          "metadata": {
            "tags": []
          },
          "execution_count": 160
        }
      ]
    },
    {
      "cell_type": "code",
      "metadata": {
        "id": "kCAV20T95Qpc",
        "outputId": "9a7788e3-8fdc-4712-c8bf-8cd02c0722ef",
        "colab": {
          "base_uri": "https://localhost:8080/",
          "height": 439
        }
      },
      "source": [
        "rating_series = pd.DataFrame(kindle.date)\n",
        "dforms=[]\n",
        "for x in rating_series.date:\n",
        "    dforms.append((pd.to_datetime(x)).value)\n",
        "# now we have dforms which has dates transformed to numeric values\n",
        "rating2 = rating_series.assign(date_min = dforms)\n",
        "rating2.reset_index(inplace=True)\n",
        "#rating2.set_index('date_min')\n",
        "#rating2.columns=['timestamp_string','review_count','date_min']\n",
        "bins = np.linspace(min(rating2.date_min),max(rating2.date_min),num=50)\n",
        "rating2.hist(column='date_min', bins=50,figsize=(10,6))"
      ],
      "execution_count": 161,
      "outputs": [
        {
          "output_type": "execute_result",
          "data": {
            "text/plain": [
              "array([[<matplotlib.axes._subplots.AxesSubplot object at 0x7fed221d5208>]],\n",
              "      dtype=object)"
            ]
          },
          "metadata": {
            "tags": []
          },
          "execution_count": 161
        },
        {
          "output_type": "display_data",
          "data": {
            "image/png": "[encoded data removed]",
            "text/plain": [
              "<Figure size 720x432 with 1 Axes>"
            ]
          },
          "metadata": {
            "tags": [],
            "needs_background": "light"
          }
        }
      ]
    },
    {
      "cell_type": "code",
      "metadata": {
        "id": "ZLnWuHoT5Qpg"
      },
      "source": [
        "# ### Function to generate NPS Score\n"
      ],
      "execution_count": 162,
      "outputs": []
    },
    {
      "cell_type": "code",
      "metadata": {
        "id": "Pu9IdD9G5Qpk"
      },
      "source": [
        "def NPS_eval (A):\n",
        "    score =0\n",
        "    for x in A[:]:\n",
        "        if (x>4) :\n",
        "            score+=1\n",
        "        elif (x<4) :\n",
        "            score-=1\n",
        "    return 100*score/len(A)    \n"
      ],
      "execution_count": 163,
      "outputs": []
    },
    {
      "cell_type": "code",
      "metadata": {
        "id": "y-rM7jei5Qpp",
        "outputId": "c3a9d707-2e16-4958-fa79-e9d15f28d577",
        "colab": {
          "base_uri": "https://localhost:8080/",
          "height": 491
        }
      },
      "source": [
        "\n",
        "NPS_overtime = kindle[['temp','rating']]\n",
        "NPS_overtime.groupby(by='temp').agg(NPS_eval).plot(figsize=(10,8))"
      ],
      "execution_count": 164,
      "outputs": [
        {
          "output_type": "execute_result",
          "data": {
            "text/plain": [
              "<matplotlib.axes._subplots.AxesSubplot at 0x7fed221450f0>"
            ]
          },
          "metadata": {
            "tags": []
          },
          "execution_count": 164
        },
        {
          "output_type": "display_data",
          "data": {
            "image/png": "[encoded data removed]",
            "text/plain": [
              "<Figure size 720x576 with 1 Axes>"
            ]
          },
          "metadata": {
            "tags": [],
            "needs_background": "light"
          }
        }
      ]
    },
    {
      "cell_type": "code",
      "metadata": {
        "id": "qTAEfKdU5Qps"
      },
      "source": [
        "def recommended_products():\n",
        "    recomm = data[(data['categories']==prod_cat[0])|(data['categories']==prod_cat[1]) & (data['rating']>=4.0)]\n",
        "    recomm = recomm['name'].unique()\n",
        "    a = []\n",
        "    i = 0\n",
        "    for i in recomm:\n",
        "        x = clean_lemma(i)\n",
        "        a.append(x)\n",
        "    for i in range(len(a)):\n",
        "        a[i] = ' '.join(a[i])\n",
        "    recomm = a\n",
        "    return recomm"
      ],
      "execution_count": 165,
      "outputs": []
    },
    {
      "cell_type": "code",
      "metadata": {
        "id": "igs9QQkn5Qpy"
      },
      "source": [
        "# ### Customer Sentiment Analysis among the dataset"
      ],
      "execution_count": 166,
      "outputs": []
    },
    {
      "cell_type": "code",
      "metadata": {
        "id": "7ZODf68H5Qp2"
      },
      "source": [
        "comments = pd.concat([kindle['text']+\". \"+ kindle['title'],kindle['rating'],kindle['doRecommend']],axis=1)\n",
        "comments.columns=['text','rating','recommend']"
      ],
      "execution_count": 167,
      "outputs": []
    },
    {
      "cell_type": "code",
      "metadata": {
        "id": "px3ao9Fm5Qp7",
        "outputId": "f91dd867-8fa3-4beb-d5af-2732fd5a4c25",
        "colab": {
          "base_uri": "https://localhost:8080/",
          "height": 71
        }
      },
      "source": [
        "  >>> import nltk\n",
        "  >>> nltk.download('stopwords')"
      ],
      "execution_count": 168,
      "outputs": [
        {
          "output_type": "stream",
          "text": [
            "[nltk_data] Downloading package stopwords to /root/nltk_data...\n",
            "[nltk_data]   Package stopwords is already up-to-date!\n"
          ],
          "name": "stdout"
        },
        {
          "output_type": "execute_result",
          "data": {
            "text/plain": [
              "True"
            ]
          },
          "metadata": {
            "tags": []
          },
          "execution_count": 168
        }
      ]
    },
    {
      "cell_type": "code",
      "metadata": {
        "id": "5yqatzl45Qp-"
      },
      "source": [
        "\n",
        "import string\n",
        "import nltk\n",
        "from nltk import PorterStemmer\n",
        "import re \n",
        "stopwords = nltk.corpus.stopwords.words('english')\n",
        "ps = PorterStemmer()\n",
        "wn = nltk.WordNetLemmatizer()\n",
        "def clean_stem (sent): \n",
        "    temp1 =\"\".join(x for x in sent if x not in string.punctuation)\n",
        "    temp2 = re.split('\\W+',temp1.lower())\n",
        "    temp3 = [ps.stem(x) for x in temp2 if x not in stopwords]\n",
        "    return temp3\n",
        "def clean_lemma (sent): \n",
        "    temp1 =\"\".join(x for x in sent if x not in string.punctuation)\n",
        "    temp2 = re.split('\\W+',temp1.lower())\n",
        "    temp3 = [wn.lemmatize(x) for x in temp2 if x not in stopwords]\n",
        "    return temp3\n"
      ],
      "execution_count": 169,
      "outputs": []
    },
    {
      "cell_type": "code",
      "metadata": {
        "id": "qDQz0pLh5QqF",
        "outputId": "f610ee77-0ebb-4e9a-87b4-ae6415e09c26",
        "colab": {
          "base_uri": "https://localhost:8080/",
          "height": 71
        }
      },
      "source": [
        "# ### Stemming and Lemming\n",
        "import nltk\n",
        "nltk.download('wordnet')"
      ],
      "execution_count": 170,
      "outputs": [
        {
          "output_type": "stream",
          "text": [
            "[nltk_data] Downloading package wordnet to /root/nltk_data...\n",
            "[nltk_data]   Package wordnet is already up-to-date!\n"
          ],
          "name": "stdout"
        },
        {
          "output_type": "execute_result",
          "data": {
            "text/plain": [
              "True"
            ]
          },
          "metadata": {
            "tags": []
          },
          "execution_count": 170
        }
      ]
    },
    {
      "cell_type": "code",
      "metadata": {
        "id": "hdHZp8Ug5QqK",
        "outputId": "772696df-b508-4775-b961-901c1b26cf6c",
        "colab": {
          "base_uri": "https://localhost:8080/",
          "height": 53
        }
      },
      "source": [
        "from sklearn.feature_extraction.text import TfidfVectorizer\n",
        "\n",
        "vectstem = TfidfVectorizer(analyzer=clean_stem)\n",
        "vectlemm = TfidfVectorizer(analyzer=clean_lemma)\n",
        "\n",
        "textfeatures=vectstem.fit_transform(comments['text'])\n",
        "print(\"Stemmed - \" + str(len(vectstem.get_feature_names())))\n",
        "\n",
        "vectlemm.fit_transform(comments['text'])\n",
        "print(\"Lemmatized - \" + str(len(vectlemm.get_feature_names())))"
      ],
      "execution_count": 171,
      "outputs": [
        {
          "output_type": "stream",
          "text": [
            "Stemmed - 3693\n",
            "Lemmatized - 4547\n"
          ],
          "name": "stdout"
        }
      ]
    },
    {
      "cell_type": "code",
      "metadata": {
        "id": "3xwIrJ8J5QqO",
        "outputId": "9c5daaf8-787f-48f9-b4f9-743e1eeac366",
        "colab": {
          "base_uri": "https://localhost:8080/",
          "height": 253
        }
      },
      "source": [
        "textmatrix = pd.DataFrame(textfeatures.toarray(),columns=vectstem.vocabulary_)\n",
        "textmatrix.head(5)"
      ],
      "execution_count": 172,
      "outputs": [
        {
          "output_type": "execute_result",
          "data": {
            "text/html": [
              "<div>\n",
              "<style scoped>\n",
              "    .dataframe tbody tr th:only-of-type {\n",
              "        vertical-align: middle;\n",
              "    }\n",
              "\n",
              "    .dataframe tbody tr th {\n",
              "        vertical-align: top;\n",
              "    }\n",
              "\n",
              "    .dataframe thead th {\n",
              "        text-align: right;\n",
              "    }\n",
              "</style>\n",
              "<table border=\"1\" class=\"dataframe\">\n",
              "  <thead>\n",
              "    <tr style=\"text-align: right;\">\n",
              "      <th></th>\n",
              "      <th>nice</th>\n",
              "      <th>littl</th>\n",
              "      <th>set</th>\n",
              "      <th>slow</th>\n",
              "      <th>wish</th>\n",
              "      <th>would</th>\n",
              "      <th>investig</th>\n",
              "      <th>jump</th>\n",
              "      <th>like</th>\n",
              "      <th>long</th>\n",
              "      <th>app</th>\n",
              "      <th>download</th>\n",
              "      <th>leav</th>\n",
              "      <th>wifi</th>\n",
              "      <th>work</th>\n",
              "      <th>great</th>\n",
              "      <th>road</th>\n",
              "      <th>trip</th>\n",
              "      <th>hunt</th>\n",
              "      <th>gift</th>\n",
              "      <th>8</th>\n",
              "      <th>year</th>\n",
              "      <th>old</th>\n",
              "      <th>daughter</th>\n",
              "      <th>kid</th>\n",
              "      <th>grandkid</th>\n",
              "      <th>love</th>\n",
              "      <th>3</th>\n",
              "      <th>one</th>\n",
              "      <th>bought</th>\n",
              "      <th>case</th>\n",
              "      <th>ok</th>\n",
              "      <th>tablet</th>\n",
              "      <th>android</th>\n",
              "      <th>play</th>\n",
              "      <th>store</th>\n",
              "      <th>weak</th>\n",
              "      <th>micro</th>\n",
              "      <th>usb</th>\n",
              "      <th>port</th>\n",
              "      <th>...</th>\n",
              "      <th>amzon</th>\n",
              "      <th>rader</th>\n",
              "      <th>beauiful</th>\n",
              "      <th>war</th>\n",
              "      <th>shove</th>\n",
              "      <th>cat</th>\n",
              "      <th>snugli</th>\n",
              "      <th>dat</th>\n",
              "      <th>fantasticli</th>\n",
              "      <th>uc</th>\n",
              "      <th>irvinedisplay</th>\n",
              "      <th>wellfew</th>\n",
              "      <th>iam</th>\n",
              "      <th>supper</th>\n",
              "      <th>dooper</th>\n",
              "      <th>rise</th>\n",
              "      <th>medic</th>\n",
              "      <th>visa</th>\n",
              "      <th>yourbedm</th>\n",
              "      <th>cartridg</th>\n",
              "      <th>itgot</th>\n",
              "      <th>syllabu</th>\n",
              "      <th>readingseasi</th>\n",
              "      <th>worker</th>\n",
              "      <th>desk</th>\n",
              "      <th>center</th>\n",
              "      <th>risk</th>\n",
              "      <th>season</th>\n",
              "      <th>retail</th>\n",
              "      <th>rice</th>\n",
              "      <th>git</th>\n",
              "      <th>vovag</th>\n",
              "      <th>sinpl</th>\n",
              "      <th>purpl</th>\n",
              "      <th>write</th>\n",
              "      <th>optioni</th>\n",
              "      <th>blackveri</th>\n",
              "      <th>onesveri</th>\n",
              "      <th>reliab</th>\n",
              "      <th>glich</th>\n",
              "    </tr>\n",
              "  </thead>\n",
              "  <tbody>\n",
              "    <tr>\n",
              "      <th>0</th>\n",
              "      <td>0.0</td>\n",
              "      <td>0.0</td>\n",
              "      <td>0.0</td>\n",
              "      <td>0.0</td>\n",
              "      <td>0.0</td>\n",
              "      <td>0.0</td>\n",
              "      <td>0.0</td>\n",
              "      <td>0.0</td>\n",
              "      <td>0.0</td>\n",
              "      <td>0.0</td>\n",
              "      <td>0.0</td>\n",
              "      <td>0.0</td>\n",
              "      <td>0.0</td>\n",
              "      <td>0.0</td>\n",
              "      <td>0.0</td>\n",
              "      <td>0.0</td>\n",
              "      <td>0.0</td>\n",
              "      <td>0.0</td>\n",
              "      <td>0.0</td>\n",
              "      <td>0.0</td>\n",
              "      <td>0.0</td>\n",
              "      <td>0.0</td>\n",
              "      <td>0.0</td>\n",
              "      <td>0.0</td>\n",
              "      <td>0.0</td>\n",
              "      <td>0.0</td>\n",
              "      <td>0.0</td>\n",
              "      <td>0.0</td>\n",
              "      <td>0.0</td>\n",
              "      <td>0.0</td>\n",
              "      <td>0.0</td>\n",
              "      <td>0.0</td>\n",
              "      <td>0.0</td>\n",
              "      <td>0.0</td>\n",
              "      <td>0.0</td>\n",
              "      <td>0.0</td>\n",
              "      <td>0.0</td>\n",
              "      <td>0.0</td>\n",
              "      <td>0.0</td>\n",
              "      <td>0.0</td>\n",
              "      <td>...</td>\n",
              "      <td>0.0</td>\n",
              "      <td>0.0</td>\n",
              "      <td>0.0</td>\n",
              "      <td>0.0</td>\n",
              "      <td>0.0</td>\n",
              "      <td>0.0</td>\n",
              "      <td>0.0</td>\n",
              "      <td>0.0</td>\n",
              "      <td>0.0</td>\n",
              "      <td>0.0</td>\n",
              "      <td>0.0</td>\n",
              "      <td>0.0</td>\n",
              "      <td>0.0</td>\n",
              "      <td>0.0</td>\n",
              "      <td>0.0</td>\n",
              "      <td>0.000000</td>\n",
              "      <td>0.0</td>\n",
              "      <td>0.0</td>\n",
              "      <td>0.0</td>\n",
              "      <td>0.0</td>\n",
              "      <td>0.0</td>\n",
              "      <td>0.0</td>\n",
              "      <td>0.0</td>\n",
              "      <td>0.0</td>\n",
              "      <td>0.0</td>\n",
              "      <td>0.0</td>\n",
              "      <td>0.0</td>\n",
              "      <td>0.0</td>\n",
              "      <td>0.0</td>\n",
              "      <td>0.0</td>\n",
              "      <td>0.0</td>\n",
              "      <td>0.0</td>\n",
              "      <td>0.0</td>\n",
              "      <td>0.0</td>\n",
              "      <td>0.0</td>\n",
              "      <td>0.0</td>\n",
              "      <td>0.0</td>\n",
              "      <td>0.0</td>\n",
              "      <td>0.0</td>\n",
              "      <td>0.0</td>\n",
              "    </tr>\n",
              "    <tr>\n",
              "      <th>1</th>\n",
              "      <td>0.0</td>\n",
              "      <td>0.0</td>\n",
              "      <td>0.0</td>\n",
              "      <td>0.0</td>\n",
              "      <td>0.0</td>\n",
              "      <td>0.0</td>\n",
              "      <td>0.0</td>\n",
              "      <td>0.0</td>\n",
              "      <td>0.0</td>\n",
              "      <td>0.0</td>\n",
              "      <td>0.0</td>\n",
              "      <td>0.0</td>\n",
              "      <td>0.0</td>\n",
              "      <td>0.0</td>\n",
              "      <td>0.0</td>\n",
              "      <td>0.0</td>\n",
              "      <td>0.0</td>\n",
              "      <td>0.0</td>\n",
              "      <td>0.0</td>\n",
              "      <td>0.0</td>\n",
              "      <td>0.0</td>\n",
              "      <td>0.0</td>\n",
              "      <td>0.0</td>\n",
              "      <td>0.0</td>\n",
              "      <td>0.0</td>\n",
              "      <td>0.0</td>\n",
              "      <td>0.0</td>\n",
              "      <td>0.0</td>\n",
              "      <td>0.0</td>\n",
              "      <td>0.0</td>\n",
              "      <td>0.0</td>\n",
              "      <td>0.0</td>\n",
              "      <td>0.0</td>\n",
              "      <td>0.0</td>\n",
              "      <td>0.0</td>\n",
              "      <td>0.0</td>\n",
              "      <td>0.0</td>\n",
              "      <td>0.0</td>\n",
              "      <td>0.0</td>\n",
              "      <td>0.0</td>\n",
              "      <td>...</td>\n",
              "      <td>0.0</td>\n",
              "      <td>0.0</td>\n",
              "      <td>0.0</td>\n",
              "      <td>0.0</td>\n",
              "      <td>0.0</td>\n",
              "      <td>0.0</td>\n",
              "      <td>0.0</td>\n",
              "      <td>0.0</td>\n",
              "      <td>0.0</td>\n",
              "      <td>0.0</td>\n",
              "      <td>0.0</td>\n",
              "      <td>0.0</td>\n",
              "      <td>0.0</td>\n",
              "      <td>0.0</td>\n",
              "      <td>0.0</td>\n",
              "      <td>0.000000</td>\n",
              "      <td>0.0</td>\n",
              "      <td>0.0</td>\n",
              "      <td>0.0</td>\n",
              "      <td>0.0</td>\n",
              "      <td>0.0</td>\n",
              "      <td>0.0</td>\n",
              "      <td>0.0</td>\n",
              "      <td>0.0</td>\n",
              "      <td>0.0</td>\n",
              "      <td>0.0</td>\n",
              "      <td>0.0</td>\n",
              "      <td>0.0</td>\n",
              "      <td>0.0</td>\n",
              "      <td>0.0</td>\n",
              "      <td>0.0</td>\n",
              "      <td>0.0</td>\n",
              "      <td>0.0</td>\n",
              "      <td>0.0</td>\n",
              "      <td>0.0</td>\n",
              "      <td>0.0</td>\n",
              "      <td>0.0</td>\n",
              "      <td>0.0</td>\n",
              "      <td>0.0</td>\n",
              "      <td>0.0</td>\n",
              "    </tr>\n",
              "    <tr>\n",
              "      <th>2</th>\n",
              "      <td>0.0</td>\n",
              "      <td>0.0</td>\n",
              "      <td>0.0</td>\n",
              "      <td>0.0</td>\n",
              "      <td>0.0</td>\n",
              "      <td>0.0</td>\n",
              "      <td>0.0</td>\n",
              "      <td>0.0</td>\n",
              "      <td>0.0</td>\n",
              "      <td>0.0</td>\n",
              "      <td>0.0</td>\n",
              "      <td>0.0</td>\n",
              "      <td>0.0</td>\n",
              "      <td>0.0</td>\n",
              "      <td>0.0</td>\n",
              "      <td>0.0</td>\n",
              "      <td>0.0</td>\n",
              "      <td>0.0</td>\n",
              "      <td>0.0</td>\n",
              "      <td>0.0</td>\n",
              "      <td>0.0</td>\n",
              "      <td>0.0</td>\n",
              "      <td>0.0</td>\n",
              "      <td>0.0</td>\n",
              "      <td>0.0</td>\n",
              "      <td>0.0</td>\n",
              "      <td>0.0</td>\n",
              "      <td>0.0</td>\n",
              "      <td>0.0</td>\n",
              "      <td>0.0</td>\n",
              "      <td>0.0</td>\n",
              "      <td>0.0</td>\n",
              "      <td>0.0</td>\n",
              "      <td>0.0</td>\n",
              "      <td>0.0</td>\n",
              "      <td>0.0</td>\n",
              "      <td>0.0</td>\n",
              "      <td>0.0</td>\n",
              "      <td>0.0</td>\n",
              "      <td>0.0</td>\n",
              "      <td>...</td>\n",
              "      <td>0.0</td>\n",
              "      <td>0.0</td>\n",
              "      <td>0.0</td>\n",
              "      <td>0.0</td>\n",
              "      <td>0.0</td>\n",
              "      <td>0.0</td>\n",
              "      <td>0.0</td>\n",
              "      <td>0.0</td>\n",
              "      <td>0.0</td>\n",
              "      <td>0.0</td>\n",
              "      <td>0.0</td>\n",
              "      <td>0.0</td>\n",
              "      <td>0.0</td>\n",
              "      <td>0.0</td>\n",
              "      <td>0.0</td>\n",
              "      <td>0.279174</td>\n",
              "      <td>0.0</td>\n",
              "      <td>0.0</td>\n",
              "      <td>0.0</td>\n",
              "      <td>0.0</td>\n",
              "      <td>0.0</td>\n",
              "      <td>0.0</td>\n",
              "      <td>0.0</td>\n",
              "      <td>0.0</td>\n",
              "      <td>0.0</td>\n",
              "      <td>0.0</td>\n",
              "      <td>0.0</td>\n",
              "      <td>0.0</td>\n",
              "      <td>0.0</td>\n",
              "      <td>0.0</td>\n",
              "      <td>0.0</td>\n",
              "      <td>0.0</td>\n",
              "      <td>0.0</td>\n",
              "      <td>0.0</td>\n",
              "      <td>0.0</td>\n",
              "      <td>0.0</td>\n",
              "      <td>0.0</td>\n",
              "      <td>0.0</td>\n",
              "      <td>0.0</td>\n",
              "      <td>0.0</td>\n",
              "    </tr>\n",
              "    <tr>\n",
              "      <th>3</th>\n",
              "      <td>0.0</td>\n",
              "      <td>0.0</td>\n",
              "      <td>0.0</td>\n",
              "      <td>0.0</td>\n",
              "      <td>0.0</td>\n",
              "      <td>0.0</td>\n",
              "      <td>0.0</td>\n",
              "      <td>0.0</td>\n",
              "      <td>0.0</td>\n",
              "      <td>0.0</td>\n",
              "      <td>0.0</td>\n",
              "      <td>0.0</td>\n",
              "      <td>0.0</td>\n",
              "      <td>0.0</td>\n",
              "      <td>0.0</td>\n",
              "      <td>0.0</td>\n",
              "      <td>0.0</td>\n",
              "      <td>0.0</td>\n",
              "      <td>0.0</td>\n",
              "      <td>0.0</td>\n",
              "      <td>0.0</td>\n",
              "      <td>0.0</td>\n",
              "      <td>0.0</td>\n",
              "      <td>0.0</td>\n",
              "      <td>0.0</td>\n",
              "      <td>0.0</td>\n",
              "      <td>0.0</td>\n",
              "      <td>0.0</td>\n",
              "      <td>0.0</td>\n",
              "      <td>0.0</td>\n",
              "      <td>0.0</td>\n",
              "      <td>0.0</td>\n",
              "      <td>0.0</td>\n",
              "      <td>0.0</td>\n",
              "      <td>0.0</td>\n",
              "      <td>0.0</td>\n",
              "      <td>0.0</td>\n",
              "      <td>0.0</td>\n",
              "      <td>0.0</td>\n",
              "      <td>0.0</td>\n",
              "      <td>...</td>\n",
              "      <td>0.0</td>\n",
              "      <td>0.0</td>\n",
              "      <td>0.0</td>\n",
              "      <td>0.0</td>\n",
              "      <td>0.0</td>\n",
              "      <td>0.0</td>\n",
              "      <td>0.0</td>\n",
              "      <td>0.0</td>\n",
              "      <td>0.0</td>\n",
              "      <td>0.0</td>\n",
              "      <td>0.0</td>\n",
              "      <td>0.0</td>\n",
              "      <td>0.0</td>\n",
              "      <td>0.0</td>\n",
              "      <td>0.0</td>\n",
              "      <td>0.000000</td>\n",
              "      <td>0.0</td>\n",
              "      <td>0.0</td>\n",
              "      <td>0.0</td>\n",
              "      <td>0.0</td>\n",
              "      <td>0.0</td>\n",
              "      <td>0.0</td>\n",
              "      <td>0.0</td>\n",
              "      <td>0.0</td>\n",
              "      <td>0.0</td>\n",
              "      <td>0.0</td>\n",
              "      <td>0.0</td>\n",
              "      <td>0.0</td>\n",
              "      <td>0.0</td>\n",
              "      <td>0.0</td>\n",
              "      <td>0.0</td>\n",
              "      <td>0.0</td>\n",
              "      <td>0.0</td>\n",
              "      <td>0.0</td>\n",
              "      <td>0.0</td>\n",
              "      <td>0.0</td>\n",
              "      <td>0.0</td>\n",
              "      <td>0.0</td>\n",
              "      <td>0.0</td>\n",
              "      <td>0.0</td>\n",
              "    </tr>\n",
              "    <tr>\n",
              "      <th>4</th>\n",
              "      <td>0.0</td>\n",
              "      <td>0.0</td>\n",
              "      <td>0.0</td>\n",
              "      <td>0.0</td>\n",
              "      <td>0.0</td>\n",
              "      <td>0.0</td>\n",
              "      <td>0.0</td>\n",
              "      <td>0.0</td>\n",
              "      <td>0.0</td>\n",
              "      <td>0.0</td>\n",
              "      <td>0.0</td>\n",
              "      <td>0.0</td>\n",
              "      <td>0.0</td>\n",
              "      <td>0.0</td>\n",
              "      <td>0.0</td>\n",
              "      <td>0.0</td>\n",
              "      <td>0.0</td>\n",
              "      <td>0.0</td>\n",
              "      <td>0.0</td>\n",
              "      <td>0.0</td>\n",
              "      <td>0.0</td>\n",
              "      <td>0.0</td>\n",
              "      <td>0.0</td>\n",
              "      <td>0.0</td>\n",
              "      <td>0.0</td>\n",
              "      <td>0.0</td>\n",
              "      <td>0.0</td>\n",
              "      <td>0.0</td>\n",
              "      <td>0.0</td>\n",
              "      <td>0.0</td>\n",
              "      <td>0.0</td>\n",
              "      <td>0.0</td>\n",
              "      <td>0.0</td>\n",
              "      <td>0.0</td>\n",
              "      <td>0.0</td>\n",
              "      <td>0.0</td>\n",
              "      <td>0.0</td>\n",
              "      <td>0.0</td>\n",
              "      <td>0.0</td>\n",
              "      <td>0.0</td>\n",
              "      <td>...</td>\n",
              "      <td>0.0</td>\n",
              "      <td>0.0</td>\n",
              "      <td>0.0</td>\n",
              "      <td>0.0</td>\n",
              "      <td>0.0</td>\n",
              "      <td>0.0</td>\n",
              "      <td>0.0</td>\n",
              "      <td>0.0</td>\n",
              "      <td>0.0</td>\n",
              "      <td>0.0</td>\n",
              "      <td>0.0</td>\n",
              "      <td>0.0</td>\n",
              "      <td>0.0</td>\n",
              "      <td>0.0</td>\n",
              "      <td>0.0</td>\n",
              "      <td>0.000000</td>\n",
              "      <td>0.0</td>\n",
              "      <td>0.0</td>\n",
              "      <td>0.0</td>\n",
              "      <td>0.0</td>\n",
              "      <td>0.0</td>\n",
              "      <td>0.0</td>\n",
              "      <td>0.0</td>\n",
              "      <td>0.0</td>\n",
              "      <td>0.0</td>\n",
              "      <td>0.0</td>\n",
              "      <td>0.0</td>\n",
              "      <td>0.0</td>\n",
              "      <td>0.0</td>\n",
              "      <td>0.0</td>\n",
              "      <td>0.0</td>\n",
              "      <td>0.0</td>\n",
              "      <td>0.0</td>\n",
              "      <td>0.0</td>\n",
              "      <td>0.0</td>\n",
              "      <td>0.0</td>\n",
              "      <td>0.0</td>\n",
              "      <td>0.0</td>\n",
              "      <td>0.0</td>\n",
              "      <td>0.0</td>\n",
              "    </tr>\n",
              "  </tbody>\n",
              "</table>\n",
              "<p>5 rows × 3693 columns</p>\n",
              "</div>"
            ],
            "text/plain": [
              "   nice  littl  set  slow  wish  ...  optioni  blackveri  onesveri  reliab  glich\n",
              "0  0.0   0.0    0.0  0.0   0.0   ...  0.0      0.0        0.0       0.0     0.0  \n",
              "1  0.0   0.0    0.0  0.0   0.0   ...  0.0      0.0        0.0       0.0     0.0  \n",
              "2  0.0   0.0    0.0  0.0   0.0   ...  0.0      0.0        0.0       0.0     0.0  \n",
              "3  0.0   0.0    0.0  0.0   0.0   ...  0.0      0.0        0.0       0.0     0.0  \n",
              "4  0.0   0.0    0.0  0.0   0.0   ...  0.0      0.0        0.0       0.0     0.0  \n",
              "\n",
              "[5 rows x 3693 columns]"
            ]
          },
          "metadata": {
            "tags": []
          },
          "execution_count": 172
        }
      ]
    },
    {
      "cell_type": "code",
      "metadata": {
        "id": "dImhjWAv5QqR",
        "outputId": "681f8bd6-be4e-4ef4-f407-2c2d257962a1",
        "colab": {
          "base_uri": "https://localhost:8080/",
          "height": 359
        }
      },
      "source": [
        "sum_scores = pd.DataFrame(textmatrix.sum(),columns=['sum_scores_TFIDF'])\n",
        "sum_scores.head(10)"
      ],
      "execution_count": 173,
      "outputs": [
        {
          "output_type": "execute_result",
          "data": {
            "text/html": [
              "<div>\n",
              "<style scoped>\n",
              "    .dataframe tbody tr th:only-of-type {\n",
              "        vertical-align: middle;\n",
              "    }\n",
              "\n",
              "    .dataframe tbody tr th {\n",
              "        vertical-align: top;\n",
              "    }\n",
              "\n",
              "    .dataframe thead th {\n",
              "        text-align: right;\n",
              "    }\n",
              "</style>\n",
              "<table border=\"1\" class=\"dataframe\">\n",
              "  <thead>\n",
              "    <tr style=\"text-align: right;\">\n",
              "      <th></th>\n",
              "      <th>sum_scores_TFIDF</th>\n",
              "    </tr>\n",
              "  </thead>\n",
              "  <tbody>\n",
              "    <tr>\n",
              "      <th>nice</th>\n",
              "      <td>4.242392</td>\n",
              "    </tr>\n",
              "    <tr>\n",
              "      <th>littl</th>\n",
              "      <td>0.338632</td>\n",
              "    </tr>\n",
              "    <tr>\n",
              "      <th>set</th>\n",
              "      <td>0.515145</td>\n",
              "    </tr>\n",
              "    <tr>\n",
              "      <th>slow</th>\n",
              "      <td>4.349600</td>\n",
              "    </tr>\n",
              "    <tr>\n",
              "      <th>wish</th>\n",
              "      <td>4.576738</td>\n",
              "    </tr>\n",
              "    <tr>\n",
              "      <th>would</th>\n",
              "      <td>3.383977</td>\n",
              "    </tr>\n",
              "    <tr>\n",
              "      <th>investig</th>\n",
              "      <td>0.990953</td>\n",
              "    </tr>\n",
              "    <tr>\n",
              "      <th>jump</th>\n",
              "      <td>0.179253</td>\n",
              "    </tr>\n",
              "    <tr>\n",
              "      <th>like</th>\n",
              "      <td>0.145790</td>\n",
              "    </tr>\n",
              "    <tr>\n",
              "      <th>long</th>\n",
              "      <td>0.381124</td>\n",
              "    </tr>\n",
              "  </tbody>\n",
              "</table>\n",
              "</div>"
            ],
            "text/plain": [
              "          sum_scores_TFIDF\n",
              "nice      4.242392        \n",
              "littl     0.338632        \n",
              "set       0.515145        \n",
              "slow      4.349600        \n",
              "wish      4.576738        \n",
              "would     3.383977        \n",
              "investig  0.990953        \n",
              "jump      0.179253        \n",
              "like      0.145790        \n",
              "long      0.381124        "
            ]
          },
          "metadata": {
            "tags": []
          },
          "execution_count": 173
        }
      ]
    },
    {
      "cell_type": "code",
      "metadata": {
        "id": "Dhjt1IZY5QqW",
        "outputId": "7de3e7b0-b078-4df6-9ce4-b85830584242",
        "colab": {
          "base_uri": "https://localhost:8080/",
          "height": 359
        }
      },
      "source": [
        "sum_scores.sort_values(by='sum_scores_TFIDF',ascending=True)[:10] "
      ],
      "execution_count": 174,
      "outputs": [
        {
          "output_type": "execute_result",
          "data": {
            "text/html": [
              "<div>\n",
              "<style scoped>\n",
              "    .dataframe tbody tr th:only-of-type {\n",
              "        vertical-align: middle;\n",
              "    }\n",
              "\n",
              "    .dataframe tbody tr th {\n",
              "        vertical-align: top;\n",
              "    }\n",
              "\n",
              "    .dataframe thead th {\n",
              "        text-align: right;\n",
              "    }\n",
              "</style>\n",
              "<table border=\"1\" class=\"dataframe\">\n",
              "  <thead>\n",
              "    <tr style=\"text-align: right;\">\n",
              "      <th></th>\n",
              "      <th>sum_scores_TFIDF</th>\n",
              "    </tr>\n",
              "  </thead>\n",
              "  <tbody>\n",
              "    <tr>\n",
              "      <th>gripe</th>\n",
              "      <td>0.076083</td>\n",
              "    </tr>\n",
              "    <tr>\n",
              "      <th>grandkid</th>\n",
              "      <td>0.076083</td>\n",
              "    </tr>\n",
              "    <tr>\n",
              "      <th>old</th>\n",
              "      <td>0.076083</td>\n",
              "    </tr>\n",
              "    <tr>\n",
              "      <th>cow</th>\n",
              "      <td>0.076083</td>\n",
              "    </tr>\n",
              "    <tr>\n",
              "      <th>felt</th>\n",
              "      <td>0.076083</td>\n",
              "    </tr>\n",
              "    <tr>\n",
              "      <th>max</th>\n",
              "      <td>0.076083</td>\n",
              "    </tr>\n",
              "    <tr>\n",
              "      <th>recomend</th>\n",
              "      <td>0.076083</td>\n",
              "    </tr>\n",
              "    <tr>\n",
              "      <th>unexpect</th>\n",
              "      <td>0.076083</td>\n",
              "    </tr>\n",
              "    <tr>\n",
              "      <th>amazon</th>\n",
              "      <td>0.076083</td>\n",
              "    </tr>\n",
              "    <tr>\n",
              "      <th>orang</th>\n",
              "      <td>0.076083</td>\n",
              "    </tr>\n",
              "  </tbody>\n",
              "</table>\n",
              "</div>"
            ],
            "text/plain": [
              "          sum_scores_TFIDF\n",
              "gripe     0.076083        \n",
              "grandkid  0.076083        \n",
              "old       0.076083        \n",
              "cow       0.076083        \n",
              "felt      0.076083        \n",
              "max       0.076083        \n",
              "recomend  0.076083        \n",
              "unexpect  0.076083        \n",
              "amazon    0.076083        \n",
              "orang     0.076083        "
            ]
          },
          "metadata": {
            "tags": []
          },
          "execution_count": 174
        }
      ]
    },
    {
      "cell_type": "code",
      "metadata": {
        "id": "qzB2jEPv5QqZ",
        "outputId": "f1eb1951-a906-41b8-bf47-b64427059be7",
        "colab": {
          "base_uri": "https://localhost:8080/",
          "height": 204
        }
      },
      "source": [
        "sum_scores.sort_values(by='sum_scores_TFIDF',ascending=False)[:5]"
      ],
      "execution_count": 175,
      "outputs": [
        {
          "output_type": "execute_result",
          "data": {
            "text/html": [
              "<div>\n",
              "<style scoped>\n",
              "    .dataframe tbody tr th:only-of-type {\n",
              "        vertical-align: middle;\n",
              "    }\n",
              "\n",
              "    .dataframe tbody tr th {\n",
              "        vertical-align: top;\n",
              "    }\n",
              "\n",
              "    .dataframe thead th {\n",
              "        text-align: right;\n",
              "    }\n",
              "</style>\n",
              "<table border=\"1\" class=\"dataframe\">\n",
              "  <thead>\n",
              "    <tr style=\"text-align: right;\">\n",
              "      <th></th>\n",
              "      <th>sum_scores_TFIDF</th>\n",
              "    </tr>\n",
              "  </thead>\n",
              "  <tbody>\n",
              "    <tr>\n",
              "      <th>fool</th>\n",
              "      <td>217.397630</td>\n",
              "    </tr>\n",
              "    <tr>\n",
              "      <th>summer</th>\n",
              "      <td>209.501804</td>\n",
              "    </tr>\n",
              "    <tr>\n",
              "      <th>matt</th>\n",
              "      <td>198.910788</td>\n",
              "    </tr>\n",
              "    <tr>\n",
              "      <th>lighter</th>\n",
              "      <td>181.218969</td>\n",
              "    </tr>\n",
              "    <tr>\n",
              "      <th>purs</th>\n",
              "      <td>147.851506</td>\n",
              "    </tr>\n",
              "  </tbody>\n",
              "</table>\n",
              "</div>"
            ],
            "text/plain": [
              "         sum_scores_TFIDF\n",
              "fool     217.397630      \n",
              "summer   209.501804      \n",
              "matt     198.910788      \n",
              "lighter  181.218969      \n",
              "purs     147.851506      "
            ]
          },
          "metadata": {
            "tags": []
          },
          "execution_count": 175
        }
      ]
    },
    {
      "cell_type": "code",
      "metadata": {
        "id": "pDWMUhu25Qqg",
        "outputId": "bd611b3a-0378-4ced-c32a-3e636e3e8e9a",
        "colab": {
          "base_uri": "https://localhost:8080/",
          "height": 272
        }
      },
      "source": [
        "pd.set_option('display.max_colwidth', 0)\n",
        "comments.head()"
      ],
      "execution_count": 176,
      "outputs": [
        {
          "output_type": "execute_result",
          "data": {
            "text/html": [
              "<div>\n",
              "<style scoped>\n",
              "    .dataframe tbody tr th:only-of-type {\n",
              "        vertical-align: middle;\n",
              "    }\n",
              "\n",
              "    .dataframe tbody tr th {\n",
              "        vertical-align: top;\n",
              "    }\n",
              "\n",
              "    .dataframe thead th {\n",
              "        text-align: right;\n",
              "    }\n",
              "</style>\n",
              "<table border=\"1\" class=\"dataframe\">\n",
              "  <thead>\n",
              "    <tr style=\"text-align: right;\">\n",
              "      <th></th>\n",
              "      <th>text</th>\n",
              "      <th>rating</th>\n",
              "      <th>recommend</th>\n",
              "    </tr>\n",
              "  </thead>\n",
              "  <tbody>\n",
              "    <tr>\n",
              "      <th>17214</th>\n",
              "      <td>Its a nice little set up but it's slow. I wish I would have investigated them a little more before just jumping in.. I like it but....</td>\n",
              "      <td>3.0</td>\n",
              "      <td>True</td>\n",
              "    </tr>\n",
              "    <tr>\n",
              "      <th>17215</th>\n",
              "      <td>As long as apps are downloaded before leaving WIFI they work great for road trips or hunting trips!. Great for road trips!</td>\n",
              "      <td>5.0</td>\n",
              "      <td>True</td>\n",
              "    </tr>\n",
              "    <tr>\n",
              "      <th>17216</th>\n",
              "      <td>Was a gift for our 8 year old daughter. Great for kids. Great for kids</td>\n",
              "      <td>5.0</td>\n",
              "      <td>True</td>\n",
              "    </tr>\n",
              "    <tr>\n",
              "      <th>17217</th>\n",
              "      <td>my grandkids love it. This is the 3 one we bought.. kids love it</td>\n",
              "      <td>5.0</td>\n",
              "      <td>True</td>\n",
              "    </tr>\n",
              "    <tr>\n",
              "      <th>17218</th>\n",
              "      <td>Great case ok tablet no Android play store. Weak micro usb port. It's isn't an straight out the box tablet. Had to install Android play store on it. And as far as the charging port goes I'm on my 3rd one but best buy are the best with their return policy.... Tablet not for kids</td>\n",
              "      <td>3.0</td>\n",
              "      <td>True</td>\n",
              "    </tr>\n",
              "  </tbody>\n",
              "</table>\n",
              "</div>"
            ],
            "text/plain": [
              "                                                                                                                                                                                                                                                                                         text  ...  recommend\n",
              "17214  Its a nice little set up but it's slow. I wish I would have investigated them a little more before just jumping in.. I like it but....                                                                                                                                                  ...  True     \n",
              "17215  As long as apps are downloaded before leaving WIFI they work great for road trips or hunting trips!. Great for road trips!                                                                                                                                                              ...  True     \n",
              "17216  Was a gift for our 8 year old daughter. Great for kids. Great for kids                                                                                                                                                                                                                  ...  True     \n",
              "17217  my grandkids love it. This is the 3 one we bought.. kids love it                                                                                                                                                                                                                        ...  True     \n",
              "17218  Great case ok tablet no Android play store. Weak micro usb port. It's isn't an straight out the box tablet. Had to install Android play store on it. And as far as the charging port goes I'm on my 3rd one but best buy are the best with their return policy.... Tablet not for kids  ...  True     \n",
              "\n",
              "[5 rows x 3 columns]"
            ]
          },
          "metadata": {
            "tags": []
          },
          "execution_count": 176
        }
      ]
    },
    {
      "cell_type": "code",
      "metadata": {
        "id": "PKrlp3BE5Qqj"
      },
      "source": [
        "# ## 5. Sentiment Analysis# ## 5. Sentiment Analysis"
      ],
      "execution_count": 177,
      "outputs": []
    },
    {
      "cell_type": "code",
      "metadata": {
        "id": "EicEYXuV5Qqn"
      },
      "source": [
        ""
      ],
      "execution_count": 177,
      "outputs": []
    },
    {
      "cell_type": "code",
      "metadata": {
        "id": "ivF51Aao5Qqr",
        "outputId": "aae76eda-888f-47b7-ad03-aacf7248fff2",
        "colab": {
          "base_uri": "https://localhost:8080/",
          "height": 71
        }
      },
      "source": [
        "  >>> import nltk\n",
        "  >>> nltk.download('vader_lexicon')"
      ],
      "execution_count": 178,
      "outputs": [
        {
          "output_type": "stream",
          "text": [
            "[nltk_data] Downloading package vader_lexicon to /root/nltk_data...\n",
            "[nltk_data]   Package vader_lexicon is already up-to-date!\n"
          ],
          "name": "stdout"
        },
        {
          "output_type": "execute_result",
          "data": {
            "text/plain": [
              "True"
            ]
          },
          "metadata": {
            "tags": []
          },
          "execution_count": 178
        }
      ]
    },
    {
      "cell_type": "code",
      "metadata": {
        "id": "D_nVb0we5Qqx"
      },
      "source": [
        "from nltk.sentiment.vader import SentimentIntensityAnalyzer\n",
        "sid = SentimentIntensityAnalyzer()"
      ],
      "execution_count": 179,
      "outputs": []
    },
    {
      "cell_type": "code",
      "metadata": {
        "id": "ffMfsh8aHZ7M"
      },
      "source": [
        "from textblob import TextBlob "
      ],
      "execution_count": 180,
      "outputs": []
    },
    {
      "cell_type": "code",
      "metadata": {
        "id": "vKsz9WGe5Qq6"
      },
      "source": [
        "def Sentiment(x):\n",
        "    return TextBlob(x).sentiment"
      ],
      "execution_count": 181,
      "outputs": []
    },
    {
      "cell_type": "code",
      "metadata": {
        "id": "i_ImvaF65Qq_",
        "outputId": "58ff7a04-5452-409a-e2f9-128e8b354921",
        "colab": {
          "base_uri": "https://localhost:8080/",
          "height": 565
        }
      },
      "source": [
        "comments['Sentiment']= comments['text'].apply(lambda x : Sentiment(x))\n",
        "comments['length'] = comments['text'].apply(lambda x : len(re.split('\\W+',x)))\n",
        "comments[comments['rating']==5].head(10)\n",
        "test = 'oops'\n",
        "print('Word is', test, sid.polarity_scores(test))\n",
        "test = 'happy'\n",
        "print('Word is', test, sid.polarity_scores(test))\n",
        "test = 'my god'\n",
        "print('Word is', test, sid.polarity_scores(test))\n",
        "test = 'sigh'\n",
        "print('Word is', test, sid.polarity_scores(test))\n",
        "\n",
        "def convert(x):\n",
        "    if x==True:\n",
        "        return 1\n",
        "    else :\n",
        "        return 0\n",
        "comments['target_rec'] = comments['recommend'].apply(lambda x : convert(x))\n",
        "comments.head(5)\n",
        "\n",
        "comments[comments['rating']==1].head(5)\n",
        "\n"
      ],
      "execution_count": 182,
      "outputs": [
        {
          "output_type": "stream",
          "text": [
            "Word is oops {'neg': 0.0, 'neu': 1.0, 'pos': 0.0, 'compound': 0.0}\n",
            "Word is happy {'neg': 0.0, 'neu': 0.0, 'pos': 1.0, 'compound': 0.5719}\n",
            "Word is my god {'neg': 0.0, 'neu': 0.323, 'pos': 0.677, 'compound': 0.2732}\n",
            "Word is sigh {'neg': 0.0, 'neu': 0.0, 'pos': 1.0, 'compound': 0.0258}\n"
          ],
          "name": "stdout"
        },
        {
          "output_type": "execute_result",
          "data": {
            "text/html": [
              "<div>\n",
              "<style scoped>\n",
              "    .dataframe tbody tr th:only-of-type {\n",
              "        vertical-align: middle;\n",
              "    }\n",
              "\n",
              "    .dataframe tbody tr th {\n",
              "        vertical-align: top;\n",
              "    }\n",
              "\n",
              "    .dataframe thead th {\n",
              "        text-align: right;\n",
              "    }\n",
              "</style>\n",
              "<table border=\"1\" class=\"dataframe\">\n",
              "  <thead>\n",
              "    <tr style=\"text-align: right;\">\n",
              "      <th></th>\n",
              "      <th>text</th>\n",
              "      <th>rating</th>\n",
              "      <th>recommend</th>\n",
              "      <th>Sentiment</th>\n",
              "      <th>length</th>\n",
              "      <th>target_rec</th>\n",
              "    </tr>\n",
              "  </thead>\n",
              "  <tbody>\n",
              "    <tr>\n",
              "      <th>17220</th>\n",
              "      <td>This product wouldn't turn on nor charge and then store couldn't locate another one for me.. Product Issues</td>\n",
              "      <td>1.0</td>\n",
              "      <td>False</td>\n",
              "      <td>(0.0, 0.0)</td>\n",
              "      <td>20</td>\n",
              "      <td>0</td>\n",
              "    </tr>\n",
              "    <tr>\n",
              "      <th>17423</th>\n",
              "      <td>Would not take a charge, good thing i tried before wrapping it for Christmas.. Had to return this on Christmas eve day</td>\n",
              "      <td>1.0</td>\n",
              "      <td>False</td>\n",
              "      <td>(0.7, 0.6000000000000001)</td>\n",
              "      <td>22</td>\n",
              "      <td>0</td>\n",
              "    </tr>\n",
              "    <tr>\n",
              "      <th>17443</th>\n",
              "      <td>I didon't care for this tablet, downloading apps outside of Amazon was really confusing.. Don't like...too hard to download other apps</td>\n",
              "      <td>1.0</td>\n",
              "      <td>False</td>\n",
              "      <td>(-0.17916666666666667, 0.3416666666666667)</td>\n",
              "      <td>24</td>\n",
              "      <td>0</td>\n",
              "    </tr>\n",
              "    <tr>\n",
              "      <th>17729</th>\n",
              "      <td>I am really disappointed in this Kindle....I have had many kindles, but I wanted somwthing I thoughtnwould be simple. This kindle doesn't show all my books that are in my cloud..it doesn't matter that they aren't in my device but they should still show up in my cloud...I have to go to my amazon account and transfer the book I want to my device.. Great for someone who doesn't have alot of books</td>\n",
              "      <td>1.0</td>\n",
              "      <td>False</td>\n",
              "      <td>(0.1375, 0.5892857142857143)</td>\n",
              "      <td>80</td>\n",
              "      <td>0</td>\n",
              "    </tr>\n",
              "    <tr>\n",
              "      <th>17887</th>\n",
              "      <td>Paper white does not allow you do use books from the library as you cannot load apps. Only books from Amazon are available to read.. Unable to access library</td>\n",
              "      <td>1.0</td>\n",
              "      <td>False</td>\n",
              "      <td>(-0.024999999999999994, 0.475)</td>\n",
              "      <td>29</td>\n",
              "      <td>0</td>\n",
              "    </tr>\n",
              "  </tbody>\n",
              "</table>\n",
              "</div>"
            ],
            "text/plain": [
              "                                                                                                                                                                                                                                                                                                                                                                                                               text  ...  target_rec\n",
              "17220  This product wouldn't turn on nor charge and then store couldn't locate another one for me.. Product Issues                                                                                                                                                                                                                                                                                                   ...  0         \n",
              "17423  Would not take a charge, good thing i tried before wrapping it for Christmas.. Had to return this on Christmas eve day                                                                                                                                                                                                                                                                                        ...  0         \n",
              "17443  I didon't care for this tablet, downloading apps outside of Amazon was really confusing.. Don't like...too hard to download other apps                                                                                                                                                                                                                                                                        ...  0         \n",
              "17729  I am really disappointed in this Kindle....I have had many kindles, but I wanted somwthing I thoughtnwould be simple. This kindle doesn't show all my books that are in my cloud..it doesn't matter that they aren't in my device but they should still show up in my cloud...I have to go to my amazon account and transfer the book I want to my device.. Great for someone who doesn't have alot of books  ...  0         \n",
              "17887  Paper white does not allow you do use books from the library as you cannot load apps. Only books from Amazon are available to read.. Unable to access library                                                                                                                                                                                                                                                 ...  0         \n",
              "\n",
              "[5 rows x 6 columns]"
            ]
          },
          "metadata": {
            "tags": []
          },
          "execution_count": 182
        }
      ]
    },
    {
      "cell_type": "code",
      "metadata": {
        "id": "Jh4vOMIS5QrE"
      },
      "source": [
        "# ### Tweet analysis"
      ],
      "execution_count": 183,
      "outputs": []
    },
    {
      "cell_type": "code",
      "metadata": {
        "id": "bpI4a_gY5QrK"
      },
      "source": [
        "import re \n",
        "import tweepy \n",
        "from tweepy import OAuthHandler \n",
        "from textblob import TextBlob "
      ],
      "execution_count": 184,
      "outputs": []
    },
    {
      "cell_type": "code",
      "metadata": {
        "id": "7eW4PubB5QrN"
      },
      "source": [
        "class Twitter(object): \n",
        "    def __init__(self): \n",
        "        consumer_key = 'pTLTfvbyuGXYgIW0RNPL0repT'\n",
        "        consumer_secret = 'aywF23Fi0XDsIwEugTECyeg4tAZLC8zS097s5jrZumdEHIRlW8'\n",
        "        access_token = '2462629484-Y4krc7QdojpnWJlBoZ2GWtao2TUP9gnjNQ3jlqE'\n",
        "        access_token_secret = 'hES7uWHi242wjRntARrusOboHKNfpQi0LGrUSJqkSqhHi'\n",
        "        try: \n",
        "            self.auth = OAuthHandler(consumer_key, consumer_secret) \n",
        "            self.auth.set_access_token(access_token, access_token_secret) \n",
        "            self.api = tweepy.API(self.auth) \n",
        "        except: \n",
        "            print(\"Error: Authentication Failed\") \n",
        "    def clean_tweet(self, tweet): \n",
        "        return ' '.join(re.sub(\"(@[A-Za-z0-9]+)|([^0-9A-Za-z \\t])|(\\w+:\\/\\/\\S+)\", \" \", tweet).split()) \n",
        "    def sentiment(self, tweet): \n",
        "        analysis = TextBlob(self.clean_tweet(tweet)) \n",
        "        if analysis.sentiment.polarity > 0: \n",
        "            return 'positive'\n",
        "        elif analysis.sentiment.polarity == 0: \n",
        "            return 'neutral'\n",
        "        else: \n",
        "            return 'negative'\n",
        "    def get_tweets(self, query, count = 10): \n",
        "        tweets = [] \n",
        "        try: \n",
        "            fetched_tweets = self.api.search(q = query, count = count) \n",
        "            for tweet in fetched_tweets: \n",
        "                parsed_tweet = {} \n",
        "                parsed_tweet['text'] = tweet.text \n",
        "                parsed_tweet['sentiment'] = self.sentiment(tweet.text) \n",
        "                if tweet.retweet_count > 0: \n",
        "                    if parsed_tweet not in tweets: \n",
        "                        tweets.append(parsed_tweet) \n",
        "                else: \n",
        "                    tweets.append(parsed_tweet) \n",
        "            return tweets \n",
        "        except tweepy.TweepError as e: \n",
        "            print(\"Error : \" + str(e)) "
      ],
      "execution_count": 185,
      "outputs": []
    },
    {
      "cell_type": "code",
      "metadata": {
        "id": "uIiaq3I35QrU",
        "outputId": "2a4bfbae-4fe0-4a1b-c148-79064f7f8f58",
        "colab": {
          "base_uri": "https://localhost:8080/",
          "height": 71
        }
      },
      "source": [
        "sent_name = kindle['name'].unique()\n",
        "sent_name = sent_name[0].split()\n",
        "sent_name = sent_name[:3]\n",
        "sent_name = ' '.join(i for i in sent_name)\n",
        "api = Twitter() \n",
        "tweets = api.get_tweets(query = sent_name, count = 200) \n",
        "ptweets = [tweet for tweet in tweets if tweet['sentiment'] == 'positive'] \n",
        "print(\"Positive tweets percentage: {} %\".format(100*len(ptweets)/len(tweets))) \n",
        "ntweets = [tweet for tweet in tweets if tweet['sentiment'] == 'negative'] \n",
        "print(\"Negative tweets percentage: {} %\".format(100*len(ntweets)/len(tweets))) \n",
        "print(\"Neutral tweets percentage: {} % \\ \".format(100*(len(tweets) - len(ntweets) - len(ptweets))/len(tweets)))\n",
        "\n"
      ],
      "execution_count": 186,
      "outputs": [
        {
          "output_type": "stream",
          "text": [
            "Positive tweets percentage: 19.35483870967742 %\n",
            "Negative tweets percentage: 0.0 %\n",
            "Neutral tweets percentage: 80.64516129032258 % \\ \n"
          ],
          "name": "stdout"
        }
      ]
    },
    {
      "cell_type": "code",
      "metadata": {
        "id": "MrOMQN5_Iwfw"
      },
      "source": [
        ""
      ],
      "execution_count": 186,
      "outputs": []
    },
    {
      "cell_type": "code",
      "metadata": {
        "id": "mOn9rdjt5QrY",
        "outputId": "cb0888b9-4867-4493-8aa6-4376c2856750",
        "colab": {
          "base_uri": "https://localhost:8080/",
          "height": 297
        }
      },
      "source": [
        "labels = ['Negative', 'Positive', 'Neutral']\n",
        "pos = 100*len(ptweets)/len(tweets)\n",
        "neg = 100*len(ntweets)/len(tweets)\n",
        "neu = 100*(len(tweets) - len(ntweets) - len(ptweets))/len(tweets)\n",
        "sizes = [neg,pos,neu]\n",
        "explode = (0, 0.1, 0)\n",
        "colors = ['#ff9995','#90ff40','#66b3ff']\n",
        "fig1, ax1 = plt.subplots()\n",
        "ax1.pie(sizes, explode=explode, labels=labels, colors=colors, autopct='%1.1f%%',shadow=True, startangle=90)\n",
        "ax1.axis('equal')\n",
        "plt.tight_layout()\n",
        "plt.show()\n"
      ],
      "execution_count": 187,
      "outputs": [
        {
          "output_type": "display_data",
          "data": {
            "image/png": "[encoded data removed]",
            "text/plain": [
              "<Figure size 432x288 with 1 Axes>"
            ]
          },
          "metadata": {
            "tags": []
          }
        }
      ]
    },
    {
      "cell_type": "code",
      "metadata": {
        "id": "Q7f_86pQ5Qrc"
      },
      "source": [
        "# ## 6. Classifier"
      ],
      "execution_count": 188,
      "outputs": []
    },
    {
      "cell_type": "code",
      "metadata": {
        "id": "7pMUHTjUIRgV"
      },
      "source": [
        "def sentiment(x):\n",
        "    score = sid.polarity_scores(x)\n",
        "    return score['compound']\n",
        "    \n",
        "#sentiment(happy)\n",
        "comments['sentiment']= comments['text'].apply(lambda x : sentiment(x))"
      ],
      "execution_count": 189,
      "outputs": []
    },
    {
      "cell_type": "code",
      "metadata": {
        "id": "gJurTuhz5Qrh",
        "outputId": "9014917a-e921-4796-d8d4-ba1364b87bcb",
        "colab": {
          "base_uri": "https://localhost:8080/",
          "height": 1000
        }
      },
      "source": [
        "from sklearn.ensemble import RandomForestClassifier\n",
        "from sklearn.metrics import precision_recall_fscore_support as score\n",
        "from sklearn.model_selection import train_test_split\n",
        "\n",
        "new_sentiment = comments.sentiment.reset_index()['sentiment']\n",
        "\n",
        "new_length = comments.length.reset_index()['length']\n",
        "\n",
        "x_features = pd.concat([new_sentiment,new_length,pd.DataFrame(textfeatures.toarray(),columns=vectstem.vocabulary_)],axis=1)\n",
        "x_train, x_test, y_train, y_test = train_test_split(x_features,comments.target_rec,test_size=0.2)\n",
        "rf = RandomForestClassifier(n_jobs=-1,n_estimators=50,max_depth=90)\n",
        "rfmodel=rf.fit(x_train,y_train)\n",
        "\n",
        "y_pred = rfmodel.predict(x_test)\n",
        "sorted(zip(rfmodel.feature_importances_,x_train.columns),reverse=True)[10:]\n"
      ],
      "execution_count": 190,
      "outputs": [
        {
          "output_type": "execute_result",
          "data": {
            "text/plain": [
              "[(0.007832555677527359, 'rightfirst'),\n",
              " (0.007775682879329658, 'cool'),\n",
              " (0.007632412712043023, 'oasi'),\n",
              " (0.00741512700200428, 'kndle'),\n",
              " (0.007319393777663795, 'reader3'),\n",
              " (0.006850308302367919, 'guard'),\n",
              " (0.006679068727014851, 'choic'),\n",
              " (0.006517683048365102, 'upper'),\n",
              " (0.006436323631318816, 'doesnot'),\n",
              " (0.0062336197048155914, 'summer'),\n",
              " (0.006202752643425266, 'hoop'),\n",
              " (0.00610518048705315, 'rough'),\n",
              " (0.005956847816883335, 'darkdim'),\n",
              " (0.005953844212227082, 'doghous'),\n",
              " (0.00590952374458084, 'dictionarydisplay'),\n",
              " (0.00590349865144255, 'zoom'),\n",
              " (0.005793583021122833, 'ebookwhich'),\n",
              " (0.0057549375493405755, 'histori'),\n",
              " (0.005679043120495043, 'cheaper'),\n",
              " (0.005678552554571401, 'evenli'),\n",
              " (0.00567274780814413, 'matt'),\n",
              " (0.005512120274685371, 'awayso'),\n",
              " (0.005358332259587844, 'keep'),\n",
              " (0.005286826683594095, 'paoerwhit'),\n",
              " (0.005239953369964812, 'surgeri'),\n",
              " (0.005195925728442004, 'sluggish'),\n",
              " (0.005160412754729139, 'ligth'),\n",
              " (0.005139282420272395, 'treat'),\n",
              " (0.005136521124297691, 'sunroom'),\n",
              " (0.005121327256661399, 'south'),\n",
              " (0.005118972318571303, 'squeezi'),\n",
              " (0.0051037525180842366, 'obviou'),\n",
              " (0.00510244370262573, 'prevent'),\n",
              " (0.0048545573587556725, 'first'),\n",
              " (0.004778183258025596, 'frickin'),\n",
              " (0.0046132906794214565, 'share'),\n",
              " (0.004520503188737222, 'blink'),\n",
              " (0.004518871242326394, 'digit'),\n",
              " (0.0045178785077928515, 'lineup'),\n",
              " (0.004515765040716145, 'neatli'),\n",
              " (0.0044908105114521745, 'fifth'),\n",
              " (0.004479302309334866, 'bump'),\n",
              " (0.004439909452888686, 'purs'),\n",
              " (0.004422618537946811, 'mous'),\n",
              " (0.00439436064448914, 'previou'),\n",
              " (0.004368731563451904, 'colorbi'),\n",
              " (0.004314496132803734, 'intend'),\n",
              " (0.004311045459400294, 'assum'),\n",
              " (0.004278543769381737, 'settingson'),\n",
              " (0.0042621911242721276, '119'),\n",
              " (0.0041401408610142005, 'membership'),\n",
              " (0.004139199342623157, 'similar'),\n",
              " (0.004068258670009355, 'anywhereani'),\n",
              " (0.004057808131875089, 'penni'),\n",
              " (0.003994507024700385, 'admittedli'),\n",
              " (0.00398380790493873, 'yesterday'),\n",
              " (0.003915674901706923, 'previoulsyment'),\n",
              " (0.003897787712731956, 'side'),\n",
              " (0.003792265587308814, 'bit'),\n",
              " (0.003693438052318122, 'flush'),\n",
              " (0.0036934220401058596, 'lighter'),\n",
              " (0.0036802647435206126, 'financi'),\n",
              " (0.00366483830319486, 'versionit'),\n",
              " (0.0036619134942469968, 'yet'),\n",
              " (0.0036599130473745174, 'lock'),\n",
              " (0.003624388326716252, '710'),\n",
              " (0.003546935917075906, 'questionsnot'),\n",
              " (0.0035349060711177722, 'rader'),\n",
              " (0.0035140127147920554, 'chargebut'),\n",
              " (0.00351022777104329, 'friend'),\n",
              " (0.0034522662746358035, 'thu'),\n",
              " (0.0034108304624955866, 'born'),\n",
              " (0.0033798349836752072, 'outdoorbeach'),\n",
              " (0.0033715894325692924, 'looooooong'),\n",
              " (0.0033271642148221714, 'lowestlevel'),\n",
              " (0.003295916326207851, 'face'),\n",
              " (0.0032888371287863923, 'hassl'),\n",
              " (0.0032211944968752316, 'motherinlaw'),\n",
              " (0.0032085630634588586, 'tend'),\n",
              " (0.0031282301646793887, '13'),\n",
              " (0.0030976702272974103, 'backyard'),\n",
              " (0.0030592021487436077, 'french'),\n",
              " (0.0030507704163981924, 'condit'),\n",
              " (0.0029841323654748388, 'shockingli'),\n",
              " (0.002947969660871229, 'beach'),\n",
              " (0.0029348879278834204, 'hardest'),\n",
              " (0.002906781995432745, 'approxim'),\n",
              " (0.0028993541539141837, '5yr'),\n",
              " (0.0028685758673174747, 'assur'),\n",
              " (0.0028547583299072176, 'letter'),\n",
              " (0.002851095005471963, 'readand'),\n",
              " (0.0028454159198562975, 'definitley'),\n",
              " (0.002807841086165955, 'salesperson'),\n",
              " (0.002802488891917551, 'problemsno'),\n",
              " (0.0027661689206921352, 'revers'),\n",
              " (0.0027644533069849774, 'speech'),\n",
              " (0.0027611421230760926, 'way'),\n",
              " (0.002741013850101282, 'bright'),\n",
              " (0.0027400542093392994, '180190'),\n",
              " (0.0027388234644928995, '6yr'),\n",
              " (0.0026952591625198957, 'goodth'),\n",
              " (0.0026924122037085435, 'stabl'),\n",
              " (0.0026544438978285574, 'liketoo'),\n",
              " (0.0026371893856858624, 'wireless'),\n",
              " (0.002632613591676214, 'morevisiblethi'),\n",
              " (0.002624939305814999, 'incept'),\n",
              " (0.0026068577760662527, 'saysgreat'),\n",
              " (0.0025809299031859688, 'ebook'),\n",
              " (0.00256148170619537, 'shaft'),\n",
              " (0.002554038150741916, 'prove'),\n",
              " (0.0025471103064599095, 'birthday'),\n",
              " (0.002541458801332762, 'instantan'),\n",
              " (0.002532596352970429, 'settingwould'),\n",
              " (0.0025289142102173133, 'easili'),\n",
              " (0.0025288080326607942, 'purseback'),\n",
              " (0.002524528297725605, 'super'),\n",
              " (0.0025002120331460913, 'alter'),\n",
              " (0.002460948597391815, 'loud'),\n",
              " (0.0024549068133168372, 'iffi'),\n",
              " (0.0024452317357935033, 'illumin'),\n",
              " (0.0024386534239892003, 'equal'),\n",
              " (0.0024274783666006754, 'phone'),\n",
              " (0.00241720274840926, 'death'),\n",
              " (0.0024039898693356604, 'soni'),\n",
              " (0.002393713990683789, 'lightweight'),\n",
              " (0.0023934081864053786, 'fairli'),\n",
              " (0.0023869990424370572, 'girlfriend'),\n",
              " (0.002364623235877918, 'weekend'),\n",
              " (0.0023576280651059355, 'target'),\n",
              " (0.0023341092400831777, 'convini'),\n",
              " (0.00232864826973785, 'audibl'),\n",
              " (0.0023140378801759006, 'grandson'),\n",
              " (0.002294395268568979, 'two'),\n",
              " (0.0022912949941363016, 'desir'),\n",
              " (0.002281593251125765, 'adjust'),\n",
              " (0.0022811986216088416, 'die'),\n",
              " (0.0022483380018628115, 'bookssh'),\n",
              " (0.0022422805048240473, 'clubhous'),\n",
              " (0.0022312769415983717, 'fewer'),\n",
              " (0.002221852506898334, 'difficult'),\n",
              " (0.0022197015148353936, 'music'),\n",
              " (0.002210247021956736, 'luck'),\n",
              " (0.002175316991528098, 'justifi'),\n",
              " (0.002153722955796604, 'gen'),\n",
              " (0.0021423431881015934, 'wgt'),\n",
              " (0.0021196997931994103, 'fashion'),\n",
              " (0.0021112657981300948, 'read'),\n",
              " (0.0020881847589969186, 'sleepi'),\n",
              " (0.0020871465740891332, 'advanc'),\n",
              " (0.002078657818979644, 'fill'),\n",
              " (0.002071187918152964, 'dismiss'),\n",
              " (0.002067324249348505, 'kindleloveit'),\n",
              " (0.0020626925982795015, 'ebayi'),\n",
              " (0.0020476762477539103, 'averag'),\n",
              " (0.0020394792289488515, 'likesgreat'),\n",
              " (0.0020376700038788804, 'frozen'),\n",
              " (0.0020216030200791157, 'compliment'),\n",
              " (0.0020173182549703354, 'school'),\n",
              " (0.002010501461913299, 'acquir'),\n",
              " (0.0019822903569214957, 'shame'),\n",
              " (0.0019813831842546955, 'thing'),\n",
              " (0.0019789925017544667, 'unobtrus'),\n",
              " (0.0019783856273962322, 'whim'),\n",
              " (0.001954169627993572, 'waffl'),\n",
              " (0.0019490630669753352, 'disallow'),\n",
              " (0.0019324258172729218, 'manual'),\n",
              " (0.001908053074560096, 'wrong'),\n",
              " (0.0019075221307294783, 'noglar'),\n",
              " (0.0019041119631139402, 'thin'),\n",
              " (0.001896228337359956, 'sometim'),\n",
              " (0.001889702400076384, 'run'),\n",
              " (0.0018807978503118058, 'eyeslink'),\n",
              " (0.0018516904511269483, 'advent'),\n",
              " (0.0017796899970892175, 'wrath'),\n",
              " (0.001771807036032651, 'bookbett'),\n",
              " (0.0017668824471423275, 'term'),\n",
              " (0.0017649070918026367, 'processor'),\n",
              " (0.0017515607485139553, '45'),\n",
              " (0.0017469238356690342, 'lighten'),\n",
              " (0.0017431088502154685, 'readingjust'),\n",
              " (0.0017373337249361493, 'suppress'),\n",
              " (0.0017336029419584053, 'featur'),\n",
              " (0.001711641395311342, 'whilst'),\n",
              " (0.001692032734414746, 'restrict'),\n",
              " (0.0016814577021557473, 'oppos'),\n",
              " (0.0016754495847905082, 'shortcom'),\n",
              " (0.0016623708068373994, 'paperlik'),\n",
              " (0.0016599778289253962, 'public'),\n",
              " (0.00165787616000374, 'readabl'),\n",
              " (0.0016437608155143097, 'swedish'),\n",
              " (0.0016376845091914205, 'least'),\n",
              " (0.0016287831041373424, 'cookbook'),\n",
              " (0.0016259571733639893, 'cross'),\n",
              " (0.0016223485340152658, 'gloss'),\n",
              " (0.001599174558311198, 'thicker'),\n",
              " (0.001597643167693601, 'tester'),\n",
              " (0.0015584472606208486, 'iphon'),\n",
              " (0.0015570179780649263, 'flawless'),\n",
              " (0.0015460901803451945, 'itaft'),\n",
              " (0.0015454351936174046, 'didnt'),\n",
              " (0.0015431759059847117, 'occult'),\n",
              " (0.0015347705895321997, 'withyour'),\n",
              " (0.0015247880975935754, 'solid'),\n",
              " (0.0015109106035791008, 'productmi'),\n",
              " (0.0014990305449805207, 'dock'),\n",
              " (0.0014963520779538116, 'hous'),\n",
              " (0.0014850727496998535, 'purpl'),\n",
              " (0.0014836557915806523, 'circumstances4'),\n",
              " (0.001482558181113699, 'recognis'),\n",
              " (0.001482459353718453, 'exclus'),\n",
              " (0.0014784669949884739, 'whole'),\n",
              " (0.001477410771617929, 'screenlightweight'),\n",
              " (0.001466593583292182, 'oper'),\n",
              " (0.0014634176470253884, 'tire'),\n",
              " (0.0014621231608702252, 'suffic'),\n",
              " (0.0014552275005067915, 'releas'),\n",
              " (0.0014508565832798506, 'penal'),\n",
              " (0.0014348485000952001, 'fanat'),\n",
              " (0.0014308937104222867, 'paperwhiy'),\n",
              " (0.0014130244109310203, 'durabl'),\n",
              " (0.001391153694647842, 'commun'),\n",
              " (0.001390125161782404, 'plastic'),\n",
              " (0.0013768054802627528, 'harri'),\n",
              " (0.0013706899124577973, 'areasno'),\n",
              " (0.0013599180269051186, 'numer'),\n",
              " (0.0013489377198146397, 'spent'),\n",
              " (0.001339917355672902, '1200page'),\n",
              " (0.0013315039523816388, 'resolv'),\n",
              " (0.0013257623227962063, 'text'),\n",
              " (0.0013223293236396148, 'sooooo'),\n",
              " (0.0013209099332398512, 'relief'),\n",
              " (0.0013196729359277093, 'order'),\n",
              " (0.0012999048089442423, 'beachpool'),\n",
              " (0.0012984925092204796, '199'),\n",
              " (0.0012798439119835064, 'furthest'),\n",
              " (0.001264342191802175, 'luggagepocket'),\n",
              " (0.0012605430482362707, 'mindset'),\n",
              " (0.001259889853955564, 'compar'),\n",
              " (0.0012577236620062704, 'dooper'),\n",
              " (0.0012569860681529094, 'profession'),\n",
              " (0.0012562796671835056, '9000'),\n",
              " (0.001256107321879823, 'beyond'),\n",
              " (0.0012471082838977356, 'amazing'),\n",
              " (0.0012458735320389999, 'titl'),\n",
              " (0.0012378106195162506, 'wet'),\n",
              " (0.0012160118129099424, 'last'),\n",
              " (0.0012157606871482272, 'photo'),\n",
              " (0.0012064837906726855, 'student'),\n",
              " (0.0012027335841067802, 'nuisanc'),\n",
              " (0.0011984738379376535, 'million'),\n",
              " (0.001178260415551454, 'includ'),\n",
              " (0.001174174419222377, 'relax'),\n",
              " (0.0011741284186595736, 'easiest'),\n",
              " (0.0011655499836575342, 'lie'),\n",
              " (0.0011572033103066368, 'bookbubcom'),\n",
              " (0.0011544348892376195, 'minim'),\n",
              " (0.0011394913982699614, 'handswrinkl'),\n",
              " (0.0011298853303045562, 'compaci'),\n",
              " (0.0011227074869472086, 'balanc'),\n",
              " (0.0011191573398425954, 'dyslexia'),\n",
              " (0.0011161635457856726, 'toothbrush'),\n",
              " (0.0011115501188630238, 'quirk'),\n",
              " (0.001107664578303458, 'u'),\n",
              " (0.0010982520686422675, 'told'),\n",
              " (0.0010960629083403355, '32gb'),\n",
              " (0.0010925986913436737, 'friendli'),\n",
              " (0.0010741447087810713, 'hr'),\n",
              " (0.0010661725555342737, 'headphon'),\n",
              " (0.0010634073475644546, 'sharewar'),\n",
              " (0.0010608858693042138, 'oni'),\n",
              " (0.001037691250467651, 'necess'),\n",
              " (0.0010208523503850396, 'pawnshop'),\n",
              " (0.001020173539781096, 'terribl'),\n",
              " (0.0010171474054777097, 'quot'),\n",
              " (0.001013834267542332, 'affect'),\n",
              " (0.0010084992108778318, 'god'),\n",
              " (0.0009863684508432783, 'bulki'),\n",
              " (0.000981459391290475, 'bro'),\n",
              " (0.0009777271402789394, 'tediou'),\n",
              " (0.0009694978105399133, 'litght'),\n",
              " (0.0009686153984484882, 'els'),\n",
              " (0.0009632682046108391, 'philsophi'),\n",
              " (0.000954686313939175, 'ah'),\n",
              " (0.0009464467368034305, 'mayb'),\n",
              " (0.0009417405323324798, 'expert'),\n",
              " (0.0009364553049520926, 'load'),\n",
              " (0.0009301792073627287, 'award'),\n",
              " (0.0009194621532749135, 'notif'),\n",
              " (0.0009162445792377916, 'comforatbl'),\n",
              " (0.0009160451184148172, 'teamkindlepaperwhit'),\n",
              " (0.0009154622342820813, 'touchscreenperfect'),\n",
              " (0.0009024896035682453, 'fuss'),\n",
              " (0.0009023312805471096, 'appropri'),\n",
              " (0.000901160449617962, 'undecid'),\n",
              " (0.0008919444668349021, 'version'),\n",
              " (0.0008877004681985154, 'changer'),\n",
              " (0.0008841496012627467, 'xbox'),\n",
              " (0.0008839995807910561, 'eyestrain'),\n",
              " (0.0008692464780960446, 'better'),\n",
              " (0.0008560746204695345, 'sat'),\n",
              " (0.0008522688000161705, 'exceed'),\n",
              " (0.0008522293906819268, 'recent'),\n",
              " (0.0008507139018604936, 'ride'),\n",
              " (0.0008442627627057653, 'bald'),\n",
              " (0.0008433100677949602, 'stopper'),\n",
              " (0.0008430598734889065, '140000'),\n",
              " (0.0008405536193276633, 'king'),\n",
              " (0.000839348589051299, 'tag'),\n",
              " (0.0008385183568663914, 'outgo'),\n",
              " (0.0008376255850987621, 'ignor'),\n",
              " (0.0008350774627513511, 'pixel'),\n",
              " (0.0008350601621437423, 'googl'),\n",
              " (0.0008333911898399021, 'bulk'),\n",
              " (0.0008101555858871064, 'uselightweight'),\n",
              " (0.0008095387512826565, 'paprrwjit'),\n",
              " (0.0007959874771654129, 'pricevalu'),\n",
              " (0.0007885906887065735, 'hardcov'),\n",
              " (0.0007773332412104289, 'musthav'),\n",
              " (0.0007694988226568092, 'technophob'),\n",
              " (0.0007628793456773351, '11yo'),\n",
              " (0.0007563661527187976, 'manga'),\n",
              " (0.0007523165023512028, 'aw'),\n",
              " (0.0007455673187046271, 'goodi'),\n",
              " (0.000742789320337568, 'closest'),\n",
              " (0.0007406041683777832, 'whiteit'),\n",
              " (0.0007402010722915967, 'dim'),\n",
              " (0.0007330928266806769, 'accessori'),\n",
              " (0.000730582241408876, 'decad'),\n",
              " (0.0007277395388553295, 'class'),\n",
              " (0.0007277103920147564, 'cannot'),\n",
              " (0.0007183363162678065, 'black'),\n",
              " (0.0007170930213736153, 'length'),\n",
              " (0.0007135096558100893, 'meoveral'),\n",
              " (0.0007005173204629653, 'thought'),\n",
              " (0.0006969087250777398, 'neighbor'),\n",
              " (0.0006944230854666674, 'creation'),\n",
              " (0.0006933958536975734, 'pig'),\n",
              " (0.0006867142268292335, 'typic'),\n",
              " (0.0006632600852131059, '2nd'),\n",
              " (0.0006611506360718573, 'orpaperback'),\n",
              " (0.0006528638902837385, 'alread'),\n",
              " (0.000645451767656133, 'feasibl'),\n",
              " (0.0006343250424645185, 'rise'),\n",
              " (0.0006327087769080077, 'dispatch'),\n",
              " (0.0006182275844237266, 'app'),\n",
              " (0.0006121208215280652, 'glitter'),\n",
              " (0.0006028229265907035, 'shadi'),\n",
              " (0.000601589191732911, 'teresa'),\n",
              " (0.000593742774779685, 'distractionfre'),\n",
              " (0.0005910113754963739, 'instor'),\n",
              " (0.0005904588282370262, 'seemingli'),\n",
              " (0.0005849810693594629, 'sporad'),\n",
              " (0.0005819602245832553, 'rain'),\n",
              " (0.0005815136726048043, 'paperbook'),\n",
              " (0.0005810208003438412, 'shot'),\n",
              " (0.000577397100900923, 'smile'),\n",
              " (0.0005677510687243301, 'intuit'),\n",
              " (0.0005634204033653797, 'lighthighli'),\n",
              " (0.0005348261404951612, 'russian'),\n",
              " (0.0005347922451591787, 'holiday'),\n",
              " (0.0005326121745894717, 'made'),\n",
              " (0.0005316986990888697, 'system'),\n",
              " (0.0005293284059018034, 'readinstruct'),\n",
              " (0.0005204294455226767, 'bb'),\n",
              " (0.000520210537936382, 'strain'),\n",
              " (0.0005124506412505898, 'reduc'),\n",
              " (0.0005071189410627342, 'success'),\n",
              " (0.0005046329017071826, 'line'),\n",
              " (0.0005010793843816648, 'primetim'),\n",
              " (0.0004994306032328625, 'buy'),\n",
              " (0.0004992994909632339, 'softli'),\n",
              " (0.0004964324342794342, 'broke'),\n",
              " (0.000489638554216867, 'nonglar'),\n",
              " (0.00048507490715408877, 'excellentwould'),\n",
              " (0.00048317024065951336, 'minor'),\n",
              " (0.000483106899065678, 'camper'),\n",
              " (0.00048094863608957124, 'healthi'),\n",
              " (0.0004802840639194285, 'murder'),\n",
              " (0.0004758578860609763, 'lifesav'),\n",
              " (0.0004738568211260164, 'modern'),\n",
              " (0.0004690062481918935, 'sun'),\n",
              " (0.0004639235297101476, 'maintain'),\n",
              " (0.00046390002449016554, 'wouldv'),\n",
              " (0.00046388603836356487, 'shine'),\n",
              " (0.0004638215134019863, 'ador'),\n",
              " (0.00046250488906259446, 'grand'),\n",
              " (0.0004609911878630954, 'laptopwith'),\n",
              " (0.0004594404556583776, 'bring'),\n",
              " (0.000458505006976652, 'freez'),\n",
              " (0.0004568911811380755, 'usefulveri'),\n",
              " (0.00044148465977374526, '85yr'),\n",
              " (0.0004412734179957384, 'stuck'),\n",
              " (0.0004388247616373858, 'quicklyoveral'),\n",
              " (0.00043860838177647453, 'andor'),\n",
              " (0.0004335335097507486, 'readal'),\n",
              " (0.0004301619895599856, 'bookworm'),\n",
              " (0.00042002194328833196, 'mac'),\n",
              " (0.0004181230383077242, 'interfac'),\n",
              " (0.0004163007814718263, 'open'),\n",
              " (0.0004082135823229632, 'el'),\n",
              " (0.00040803212851405575, 'newcom'),\n",
              " (0.00040571333332571754, 'nightb'),\n",
              " (0.0004025854496262128, 'onto'),\n",
              " (0.00040138313779808805, 'vocabulari'),\n",
              " (0.00040019221830958125, 'discomfort'),\n",
              " (0.0003982194008137054, 'approv'),\n",
              " (0.0003968770966028941, 'backlighti'),\n",
              " (0.0003963740676993684, 'whenev'),\n",
              " (0.00039600244687378066, 'iteasi'),\n",
              " (0.000395757838547793, 'week'),\n",
              " (0.0003949015692698389, 'abus'),\n",
              " (0.00039351344912848826, 'critic'),\n",
              " (0.0003926539698243874, 'futur'),\n",
              " (0.00038499110283168815, 'countless'),\n",
              " (0.00037841542266321026, 'notepad'),\n",
              " (0.0003751133671570292, 'vendor'),\n",
              " (0.00037214198106860373, 'punit'),\n",
              " (0.00037018478873719065, 'chargingit'),\n",
              " (0.00036037761574349265, 'leadership'),\n",
              " (0.00034859841005109127, 'safe'),\n",
              " (0.0003480676713155884, 'prayer'),\n",
              " (0.00034721154273333375, 'nope'),\n",
              " (0.00034611258314006606, 'air'),\n",
              " (0.00033898053753475386, 'search'),\n",
              " (0.00033740223944416945, 'concern'),\n",
              " (0.0003315284198400784, 'everybodi'),\n",
              " (0.0003282045588271159, 'wasnt'),\n",
              " (0.0003272519046638486, '10month'),\n",
              " (0.0003241981900127671, 'avail'),\n",
              " (0.0003234000505313798, 'storag'),\n",
              " (0.00031960893697752306, 'overhead'),\n",
              " (0.0003195593239674778, 'literari'),\n",
              " (0.00031729766076906037, 'vers'),\n",
              " (0.00031620618266206866, 'midnight'),\n",
              " (0.0003128950781184898, 'varieti'),\n",
              " (0.00031038440106080715, 'life2'),\n",
              " (0.00030877490344271863, 'definetli'),\n",
              " (0.0003060240963855418, 'git'),\n",
              " (0.0003058122893723765, 'increas'),\n",
              " (0.0002995971842991383, 'unus'),\n",
              " (0.00029934603639485824, 'catch22'),\n",
              " (0.0002952012365910068, 'without'),\n",
              " (0.0002944904773682905, 'noveltyp'),\n",
              " (0.0002934367687760191, 'charger'),\n",
              " (0.0002902572249274671, 'slimmer'),\n",
              " (0.0002895111813924573, 'rechag'),\n",
              " (0.00028905023101258597, 'remain'),\n",
              " (0.0002878503588159112, 'hardcoverus'),\n",
              " (0.00028707414976845915, 'regist'),\n",
              " (0.0002862999563658185, 'oldbut'),\n",
              " (0.00028573141466240896, 'level'),\n",
              " (0.0002848931438154572, 'project'),\n",
              " (0.0002810352278189338, 'useless'),\n",
              " (0.0002790707112875155, 'airport'),\n",
              " (0.0002783552122194506, 'wanteven'),\n",
              " (0.0002777791796826077, 'dat'),\n",
              " (0.00027760168996049394, 'didont'),\n",
              " (0.0002761584193804119, '11'),\n",
              " (0.0002720214190093705, 'pickup'),\n",
              " (0.0002720214190093705, 'instrument'),\n",
              " (0.00027202141900937044, 'achiev'),\n",
              " (0.0002696282842894642, 'lot'),\n",
              " (0.00026709499783172784, 'itmayb'),\n",
              " (0.00026529458362214547, 'dozen'),\n",
              " (0.0002619024218142443, 'wikipediafarm'),\n",
              " (0.0002569335386778542, 'decreas'),\n",
              " (0.00024867398223721917, 'nysecond'),\n",
              " (0.0002420965432041988, 'main'),\n",
              " (0.00023656294530180418, '8yo'),\n",
              " (0.00023525706928969044, 'opportun'),\n",
              " (0.00023525706928969044, 'kindergarten'),\n",
              " (0.0002346623969343878, 'faster'),\n",
              " (0.0002320295832127053, '3g'),\n",
              " (0.0002272787537512394, 'grow'),\n",
              " (0.00022423290648249098, 'forsook'),\n",
              " (0.0002214009274432551, 'downon'),\n",
              " (0.00022066621986865188, 'texa'),\n",
              " (0.0002201265519064303, 'stepmoth'),\n",
              " (0.00021667413502161954, 'todo'),\n",
              " (0.00021502409176271458, '65'),\n",
              " (0.00021406830344928795, 'bag'),\n",
              " (0.00021405181503189802, 'sever'),\n",
              " (0.00021343584976511, 'arm'),\n",
              " (0.00020987382401132588, 'nowand'),\n",
              " (0.00020757125086242614, 'brightnesscompar'),\n",
              " (0.0002069364993929032, 'ground'),\n",
              " (0.00020416717295262962, 'screenthey'),\n",
              " (0.00020097121163480336, 'mark'),\n",
              " (0.00020077342973774827, 'ymmv'),\n",
              " (0.00020009610915479062, 'weve'),\n",
              " (0.0001976996539351146, 'consumptionbatteri'),\n",
              " (0.0001955082448336384, 'brought'),\n",
              " (0.00019426848453064056, 'woman'),\n",
              " (0.00018920771133160513, 'inb'),\n",
              " (0.0001874392003561247, 'ghost'),\n",
              " (0.00018584232668739727, 'challang'),\n",
              " (0.0001847967592753319, 'l'),\n",
              " (0.00018288525959808655, 'ito'),\n",
              " (0.0001813476126729136, 'yard'),\n",
              " (0.00018043599599670417, 'import'),\n",
              " (0.00017989838775259572, 'harsh'),\n",
              " (0.00017938102057102096, 'floor'),\n",
              " (0.00017644280196726778, 'screenmuch'),\n",
              " (0.00017555993596952586, 'cargo'),\n",
              " (0.00017359636989055385, 'data'),\n",
              " (0.00016772910798200564, 'complet'),\n",
              " (0.00016757834115748254, 'nondamag'),\n",
              " (0.00016029281837687755, 'rang'),\n",
              " (0.00015494437035107035, 'pleas'),\n",
              " (0.0001498574154069591, 'nicer'),\n",
              " (0.00014819017260100036, 'equival'),\n",
              " (0.0001427414237625949, 'slower'),\n",
              " (0.00014238526513049772, 'inbuilt'),\n",
              " (0.00013884494378523117, 'backlead'),\n",
              " (0.00013806121330339492, 'case'),\n",
              " (0.00013145437013486834, 'readerfriendli'),\n",
              " (0.00013008140012130365, 'montha'),\n",
              " (0.00012683192950117098, 'cruis'),\n",
              " (0.00012608070516618094, 'nerd'),\n",
              " (0.00012212786162047818, 'porti'),\n",
              " (0.00012205941007090116, 'eyesback'),\n",
              " (0.00011826284710754191, 'etc'),\n",
              " (0.00011658060814687311, 'lightlight'),\n",
              " (0.00011550484453294932, 'begin'),\n",
              " (0.00011441485366513269, 'window'),\n",
              " (0.00011352462679896308, 'common'),\n",
              " (0.00011352462679896308, 'cartoon'),\n",
              " (0.00011043640585329482, 'novic'),\n",
              " (0.00010848422832228507, 'airmini'),\n",
              " (0.00010617754640836167, 'blow'),\n",
              " (0.00010200803212851394, 'discount'),\n",
              " (9.93267689035729e-05, 'cheap'),\n",
              " (9.826328919626325e-05, 'ipadin'),\n",
              " (9.147250704219003e-05, 'greta'),\n",
              " (9.059946884780737e-05, 'thick'),\n",
              " (8.904019868857446e-05, 'expectationin'),\n",
              " (8.822140098363392e-05, 'outdoor'),\n",
              " (8.701169728635458e-05, 'wife'),\n",
              " (8.592848081666579e-05, 'elimin'),\n",
              " (8.353898661162935e-05, 'locat'),\n",
              " (8.232823095903936e-05, 'patent'),\n",
              " (8.160642570281113e-05, 'sheet'),\n",
              " (7.975981268347807e-05, 'snap'),\n",
              " (7.56183437002576e-05, 'downfal'),\n",
              " (7.313746027289764e-05, 'cart'),\n",
              " (7.225906296495449e-05, 'electronicdisplayish'),\n",
              " (7.156008649575903e-05, 'fowardbackward'),\n",
              " (7.15381004537633e-05, 'crown'),\n",
              " (6.936536156011981e-05, 'lenovo'),\n",
              " (6.936536156011981e-05, 'eyeglass'),\n",
              " (6.918722046050013e-05, 'gift'),\n",
              " (6.864812258147157e-05, 'accordingli'),\n",
              " (6.800535475234261e-05, 'appar'),\n",
              " (6.731210911275196e-05, 'deliv'),\n",
              " (6.648509343755901e-05, 'dont'),\n",
              " (6.609798203370799e-05, 'join'),\n",
              " (6.524627116191107e-05, 'babi'),\n",
              " (6.423338466946354e-05, 'hurri'),\n",
              " (6.373979611399528e-05, 'gym'),\n",
              " (6.227620332778496e-05, 'got'),\n",
              " (6.19474422291324e-05, 'challeng'),\n",
              " (6.119540305482785e-05, 'st'),\n",
              " (5.991798635954241e-05, 'nonetheless'),\n",
              " (5.810804873558314e-05, 'regularli'),\n",
              " (5.683348039822822e-05, 'difficulti'),\n",
              " (5.5678859833410964e-05, 'cycl'),\n",
              " (5.504165451916103e-05, 'ubiquit'),\n",
              " (5.470653096093163e-05, ''),\n",
              " (5.440428380187405e-05, 'electron'),\n",
              " (5.077157247887107e-05, 'fat'),\n",
              " (5.045538968842798e-05, 'classic'),\n",
              " (5.040001598687695e-05, 'lifesimpl'),\n",
              " (4.838248202736332e-05, 'thr'),\n",
              " (4.817908202725834e-05, 'research'),\n",
              " (4.371772805507748e-05, 'finish'),\n",
              " (4.189155881973392e-05, 'robust'),\n",
              " (3.957942689544247e-05, 'exit'),\n",
              " (3.91807822890523e-05, 'sale'),\n",
              " (3.906129855750013e-05, 'kick'),\n",
              " (3.8476672192007984e-05, 'prize'),\n",
              " (3.6866952514567006e-05, '1000'),\n",
              " (3.632876050373887e-05, 'turner'),\n",
              " (3.570224281333561e-05, 'europ'),\n",
              " (3.539853841664714e-05, 'fail'),\n",
              " (3.4438293280667294e-05, 'cheaperplu'),\n",
              " (3.4002677376171326e-05, 'premium'),\n",
              " (3.3354749095794034e-05, 'season'),\n",
              " (3.312311889373986e-05, 'retail'),\n",
              " (3.273921767556106e-05, 'book'),\n",
              " (3.211669233473178e-05, 'reli'),\n",
              " (3.187725784462116e-05, 'document6'),\n",
              " (3.153461855526753e-05, '32'),\n",
              " (3.148294719293366e-05, 'found'),\n",
              " (3.097372111456622e-05, 'refresh'),\n",
              " (2.9841162619246144e-05, 'diagram'),\n",
              " (2.8349286566973167e-05, 'subscript'),\n",
              " (2.7497579527366503e-05, 'power'),\n",
              " (2.7317298253683706e-05, 'treadmil'),\n",
              " (2.7202141900937135e-05, 'network'),\n",
              " (2.601201058504492e-05, 'unitwork'),\n",
              " (2.44782740861812e-05, 'translat'),\n",
              " (2.406161412760309e-05, 'novel'),\n",
              " (2.202287474381621e-05, 'raffl'),\n",
              " (2.1390233763871497e-05, 'alsother'),\n",
              " (2.1011754015947843e-05, 'design'),\n",
              " (2.0401606425702718e-05, 'mimic'),\n",
              " (1.9369741174468916e-05, 'anytimewhen'),\n",
              " (1.913165443406666e-05, 'hobbi'),\n",
              " (1.8920771133160445e-05, 'across'),\n",
              " (1.8584232668739662e-05, 'thatth'),\n",
              " (1.769926920832365e-05, 'r'),\n",
              " (1.7128902578523554e-05, 'indestruct'),\n",
              " (1.6971613454762402e-05, 'seen'),\n",
              " (1.5230214587127588e-05, 'easyer'),\n",
              " (1.5015596416238366e-05, 'briught'),\n",
              " (1.4907097026770658e-05, 'virtual'),\n",
              " (1.4405544930911603e-05, 'anxieti'),\n",
              " (1.3863307543004395e-05, 'written'),\n",
              " (1.3602363812357283e-05, 'teen'),\n",
              " (1.3601070950468613e-05, 'finnal'),\n",
              " (1.3197649453806204e-05, 'ought'),\n",
              " (1.3103651430490759e-05, 'invalu'),\n",
              " (1.3088465660812997e-05, 'uhd'),\n",
              " (1.2834858919252316e-05, 'experi'),\n",
              " (1.246516726899279e-05, 'allround'),\n",
              " (1.2389488445826565e-05, 'infinit'),\n",
              " (1.1934031920389136e-05, 'suggest'),\n",
              " (1.024035706358558e-05, 'card'),\n",
              " (1.0200803212851493e-05, 'prime'),\n",
              " (1.0169932175215336e-05, 'reach'),\n",
              " (1.01263231134748e-05, 'sizey'),\n",
              " (9.936935668121827e-06, 'voyag'),\n",
              " (9.715050678906146e-06, 'lowest'),\n",
              " (9.460385566580348e-06, 'heal'),\n",
              " (9.00958305882118e-06, '1220'),\n",
              " (8.983092988406998e-06, 'sue'),\n",
              " (8.731466581299833e-06, 'lite'),\n",
              " (8.259658963884542e-06, 'con'),\n",
              " (8.256870989187399e-06, 'clearcrisp'),\n",
              " (8.219470653145721e-06, 'problemat'),\n",
              " (8.051286462852626e-06, 'youit'),\n",
              " (7.940736426219356e-06, 'magic'),\n",
              " (7.56524331702914e-06, 'tuck'),\n",
              " (7.562212715738931e-06, 'eas'),\n",
              " (7.441961914067155e-06, 'nonstop'),\n",
              " (7.345286292654789e-06, 'mile'),\n",
              " (7.011678032578277e-06, 'other'),\n",
              " (7.007278327577717e-06, 'smooth'),\n",
              " (6.882148357442456e-06, 'definitionsdid'),\n",
              " (6.800535475234193e-06, 'efead'),\n",
              " (6.590726890467294e-06, 'reasons1'),\n",
              " (6.560027479800358e-06, 'background'),\n",
              " (6.544232830406519e-06, 'correct'),\n",
              " (6.532259010604622e-06, 'grrrrrrreeeeeeeeaaaaaattttttt'),\n",
              " (5.939753130764167e-06, 'instead'),\n",
              " (5.777346510737577e-06, 'highlightit'),\n",
              " (5.714914062308472e-06, 'eyestraini'),\n",
              " (5.5516262758768155e-06, 'upgrad'),\n",
              " (5.541123022747956e-06, 'likeswould'),\n",
              " (5.24585398738773e-06, 'wholeheartedli'),\n",
              " (5.226084166245585e-06, 'format'),\n",
              " (5.1639231101514495e-06, 'real'),\n",
              " (5.130669465507255e-06, 'lotenjoy'),\n",
              " (5.127338533323902e-06, 'immedi'),\n",
              " (5.0091505742778496e-06, '180200'),\n",
              " (4.862302021144353e-06, 'cover'),\n",
              " (4.738430770710674e-06, 'want'),\n",
              " (4.708282835725523e-06, 'everyon'),\n",
              " (4.455172891618954e-06, 'arent'),\n",
              " (4.4356280354509405e-06, 'ray'),\n",
              " (4.384948992455852e-06, 'non'),\n",
              " (4.377731145712933e-06, 'appetit'),\n",
              " (4.31039977918512e-06, 'rent'),\n",
              " (4.287411049713543e-06, 'tri'),\n",
              " (4.282225644631016e-06, 'paperwhiit'),\n",
              " (4.213820225389474e-06, 'mustown'),\n",
              " (4.177473660779261e-06, 'potter'),\n",
              " (3.8560479607352105e-06, 'screensav'),\n",
              " (3.749068336148527e-06, 'strong'),\n",
              " (3.745583455728612e-06, 'amozon'),\n",
              " (3.703601062164419e-06, 'modelth'),\n",
              " (3.690227718414385e-06, 'began'),\n",
              " (3.6431440045896805e-06, 'bird'),\n",
              " (3.5439108783161503e-06, 'itgot'),\n",
              " (3.532745701420457e-06, 'highest'),\n",
              " (3.503469719512581e-06, 'booklov'),\n",
              " (3.4045370057532986e-06, 'corpor'),\n",
              " (3.3787091309214243e-06, 'bed'),\n",
              " (3.369312605533226e-06, 'buck'),\n",
              " (3.318612976560572e-06, 'unwant'),\n",
              " (3.1635748482968888e-06, 'kindlei'),\n",
              " (2.953036815962466e-06, 'hint'),\n",
              " (2.767730226937525e-06, 'handget'),\n",
              " (2.719681176272756e-06, 'other5not'),\n",
              " (2.6933670534407173e-06, 'paprewhit'),\n",
              " (2.6197990799756918e-06, 'materialsth'),\n",
              " (2.6155905673976025e-06, 'ultim'),\n",
              " (2.599592805514638e-06, 'anyth'),\n",
              " (2.5265147276413315e-06, 'casual'),\n",
              " (2.4891809590141246e-06, 'remot'),\n",
              " (2.382593931890195e-06, 'plug'),\n",
              " (2.2914649606140446e-06, 'advertis'),\n",
              " (2.2833734811504325e-06, 'button'),\n",
              " (2.2668451584112317e-06, 'accustom'),\n",
              " (2.241934772055515e-06, 'vovag'),\n",
              " (2.238026075882317e-06, 'ambient'),\n",
              " (2.225973074489296e-06, 'kindlebut'),\n",
              " (2.2258443311074884e-06, '6'),\n",
              " (2.1151844036863283e-06, 'bix'),\n",
              " (2.091480252948935e-06, 'iphoneth'),\n",
              " (2.0779196980578974e-06, 'consider'),\n",
              " (2.0547823260760117e-06, 'elderli'),\n",
              " (2.0344965384918196e-06, 'maui'),\n",
              " (1.9562350177615054e-06, 'readno'),\n",
              " (1.943010135781211e-06, 'conduc'),\n",
              " (1.896819161219015e-06, 'desk'),\n",
              " (1.8917825880035795e-06, 'hospitalveri'),\n",
              " (1.8834067417062008e-06, 'practic'),\n",
              " (1.8827160975938277e-06, 'ampl'),\n",
              " (1.856850886425455e-06, 'guatemala'),\n",
              " (1.8522491031960646e-06, 'larger'),\n",
              " (1.7971816795024983e-06, 'actut'),\n",
              " (1.7699269208323488e-06, 'flaw'),\n",
              " (1.6845260860903436e-06, 'pretti'),\n",
              " (1.6514200786612949e-06, 'break'),\n",
              " (1.5612835447252688e-06, '2011'),\n",
              " (1.5228576435674117e-06, 'layout'),\n",
              " (1.5030802715730148e-06, 'smell'),\n",
              " (1.4470648852500281e-06, 'hardbound'),\n",
              " (1.4412693010564304e-06, 'door'),\n",
              " (1.3334383284773017e-06, 'master'),\n",
              " (1.3077952836988921e-06, 'hasnt'),\n",
              " (1.306868637441146e-06, 'smart'),\n",
              " (1.2245071122444612e-06, 'valentin'),\n",
              " (1.2092074871484679e-06, 'brush'),\n",
              " (1.2089840844860386e-06, 'alon'),\n",
              " (1.1612837739667025e-06, 'righti'),\n",
              " (1.1313006822759777e-06, 'refund'),\n",
              " (1.1064778440445897e-06, 'minilibrari'),\n",
              " (1.1064778440445897e-06, 'confortableeasi'),\n",
              " (1.0671943667381035e-06, 'joyi'),\n",
              " (1.0326454233432419e-06, 'question'),\n",
              " (1.0226369135692205e-06, 'enlarg'),\n",
              " (9.752974810900725e-07, 'leather'),\n",
              " (9.67951801792921e-07, 'restaur'),\n",
              " (9.412361098191046e-07, 'nightlight'),\n",
              " (9.250642517216386e-07, 'delight'),\n",
              " (9.250592277308326e-07, 'thereth'),\n",
              " (8.499003675853344e-07, 'secondari'),\n",
              " (8.301352427581353e-07, 'goodwa'),\n",
              " (8.190810014355973e-07, 'theyll'),\n",
              " (8.141016530909462e-07, 'netflix'),\n",
              " (7.905465243166332e-07, 'part'),\n",
              " (7.676519449157126e-07, 'backpocket'),\n",
              " (7.39188638612559e-07, 'useinterfac'),\n",
              " (7.120989566336573e-07, 'café'),\n",
              " (7.065491402843362e-07, 'dimli'),\n",
              " (7.034541914895738e-07, 'wow'),\n",
              " (6.765508667388535e-07, 'regular'),\n",
              " (6.552648011486544e-07, 'reward'),\n",
              " (6.399161894537054e-07, 'cake'),\n",
              " (6.382532857592845e-07, 'higher'),\n",
              " (5.965381995814714e-07, 'besid'),\n",
              " (5.857167392679998e-07, 'itit'),\n",
              " (5.768429235761559e-07, 'diestraft'),\n",
              " (5.593361393505993e-07, 'becam'),\n",
              " (5.56461082776497e-07, 'interior'),\n",
              " (5.532389220217908e-07, 'benefit'),\n",
              " (5.120410071468894e-07, 'niceth'),\n",
              " (4.916463668979847e-07, 'move'),\n",
              " (4.892061937804908e-07, '910'),\n",
              " (4.782269783736829e-07, 'amount'),\n",
              " (4.7613102675959954e-07, 'cloud'),\n",
              " (4.675157021771608e-07, 'barter'),\n",
              " (4.6095037987132385e-07, 'alurek'),\n",
              " (4.481462026528012e-07, 'father'),\n",
              " (4.455626312300168e-07, 'clutter'),\n",
              " (4.423744508314343e-07, 'fiction'),\n",
              " (4.390003617825148e-07, 'parti'),\n",
              " (4.3496025593483733e-07, 'favorit'),\n",
              " (4.1954855782357053e-07, '100'),\n",
              " (4.1931993833921527e-07, 'obsolut'),\n",
              " (4.079679463241311e-07, 'she'),\n",
              " (3.9440148719264735e-07, '220'),\n",
              " (3.820655035235858e-07, 'libro'),\n",
              " (3.814671599429935e-07, 'newest'),\n",
              " (3.786521733525865e-07, 'reasonablea'),\n",
              " (3.7042483221812343e-07, 'usag'),\n",
              " (3.518876293454478e-07, 'crash'),\n",
              " (3.4002677376135853e-07, 'pricier'),\n",
              " (3.383672590132321e-07, 'theyr'),\n",
              " (3.208723199508437e-07, 'regard'),\n",
              " (3.1854294543895993e-07, 'know'),\n",
              " (3.1650843840793495e-07, 'chosen'),\n",
              " (3.0726627490725424e-07, 'appreci'),\n",
              " (2.698625188591055e-07, 'outsid'),\n",
              " (2.5775836544785766e-07, 'sync'),\n",
              " (2.5534104093336363e-07, 'problem'),\n",
              " (2.4810778767607733e-07, 'reflect'),\n",
              " (2.3301442282251486e-07, 'suppli'),\n",
              " (2.307411113804686e-07, 'lamin'),\n",
              " (2.3006603900615915e-07, 'lit'),\n",
              " (2.208780568773011e-07, 'beam'),\n",
              " (2.1847693769094507e-07, 'washer'),\n",
              " (2.14111282230295e-07, 'sonin'),\n",
              " (1.7531621974272855e-07, 'church'),\n",
              " (1.6161808668838008e-07, 'go'),\n",
              " (1.616179944375546e-07, 'spring'),\n",
              " (1.602954272486868e-07, 'someon'),\n",
              " (1.4820470261307422e-07, 'daughterinlaw'),\n",
              " (1.4805229626677683e-07, 'minut'),\n",
              " (1.466515631698148e-07, 'live'),\n",
              " (1.3782382722867217e-07, 'nut'),\n",
              " (1.3339492607581298e-07, 'backgroundbest'),\n",
              " (1.175684094239377e-07, 'inspir'),\n",
              " (1.1186722787262212e-07, 'blind'),\n",
              " (1.0783090077033834e-07, 'poetri'),\n",
              " (1.0492136340703027e-07, 'useth'),\n",
              " (1.0322226422616044e-07, 'originalkindl'),\n",
              " (8.797397515724416e-08, 'neic'),\n",
              " (7.705478719995673e-08, 'techi'),\n",
              " (7.208828219210198e-08, 'simul'),\n",
              " (7.074846303128964e-08, 'timei'),\n",
              " (6.859782841247793e-08, 'persist'),\n",
              " (6.610336192381382e-08, 'game'),\n",
              " (4.487138672198594e-08, 'excess'),\n",
              " (4.3217767292465904e-08, 'refriger'),\n",
              " (4.0325599175427824e-08, 'round'),\n",
              " (3.403103657408482e-08, 'ls'),\n",
              " (3.078906836095413e-08, 'kidsupgrad'),\n",
              " (1.54534752050799e-08, 'slow'),\n",
              " (1.4079994601235584e-08, 'gonna'),\n",
              " (7.800771439936695e-09, 'capac'),\n",
              " (7.181583570256427e-09, 'fourth'),\n",
              " (2.43623983383362e-09, 'eve'),\n",
              " (0.0, 'área'),\n",
              " (0.0, 'zone'),\n",
              " (0.0, 'zero'),\n",
              " (0.0, 'yr'),\n",
              " (0.0, 'youv'),\n",
              " (0.0, 'youtub'),\n",
              " (0.0, 'yourbedm'),\n",
              " (0.0, 'your'),\n",
              " (0.0, 'youngster'),\n",
              " (0.0, 'youngest'),\n",
              " (0.0, 'younger'),\n",
              " (0.0, 'young'),\n",
              " (0.0, 'youll'),\n",
              " (0.0, 'youd'),\n",
              " (0.0, 'york'),\n",
              " (0.0, 'yo'),\n",
              " (0.0, 'yellow'),\n",
              " (0.0, 'yearold'),\n",
              " (0.0, 'yeari'),\n",
              " (0.0, 'year'),\n",
              " (0.0, 'ye'),\n",
              " (0.0, 'xray'),\n",
              " (0.0, 'xma'),\n",
              " (0.0, 'x'),\n",
              " (0.0, 'wrote'),\n",
              " (0.0, 'wrk'),\n",
              " (0.0, 'write'),\n",
              " (0.0, 'wrist'),\n",
              " (0.0, 'wrap'),\n",
              " (0.0, 'wout'),\n",
              " (0.0, 'wouldnt'),\n",
              " (0.0, 'would'),\n",
              " (0.0, 'woul'),\n",
              " (0.0, 'wotk'),\n",
              " (0.0, 'worthwhil'),\n",
              " (0.0, 'worthi'),\n",
              " (0.0, 'worth'),\n",
              " (0.0, 'wors'),\n",
              " (0.0, 'worrisom'),\n",
              " (0.0, 'worri'),\n",
              " (0.0, 'worn'),\n",
              " (0.0, 'worm'),\n",
              " (0.0, 'world'),\n",
              " (0.0, 'worker'),\n",
              " (0.0, 'workaround'),\n",
              " (0.0, 'work'),\n",
              " (0.0, 'wore'),\n",
              " (0.0, 'word'),\n",
              " (0.0, 'wont'),\n",
              " (0.0, 'wonder'),\n",
              " (0.0, 'withstand'),\n",
              " (0.0, 'within'),\n",
              " (0.0, 'wit'),\n",
              " (0.0, 'wish'),\n",
              " (0.0, 'wise'),\n",
              " (0.0, 'wire'),\n",
              " (0.0, 'wipe'),\n",
              " (0.0, 'winter'),\n",
              " (0.0, 'winner'),\n",
              " (0.0, 'win'),\n",
              " (0.0, 'wikipedia'),\n",
              " (0.0, 'wiki'),\n",
              " (0.0, 'wihit'),\n",
              " (0.0, 'wihich'),\n",
              " (0.0, 'wight'),\n",
              " (0.0, 'wifibut'),\n",
              " (0.0, 'wifi'),\n",
              " (0.0, 'wifeth'),\n",
              " (0.0, 'wifesh'),\n",
              " (0.0, 'wider'),\n",
              " (0.0, 'wide'),\n",
              " (0.0, 'whoever'),\n",
              " (0.0, 'who'),\n",
              " (0.0, 'whitesilv'),\n",
              " (0.0, 'whitepap'),\n",
              " (0.0, 'whitelight'),\n",
              " (0.0, 'white'),\n",
              " (0.0, 'whit'),\n",
              " (0.0, 'whistl'),\n",
              " (0.0, 'whispersync'),\n",
              " (0.0, 'whispernet'),\n",
              " (0.0, 'whiletravel'),\n",
              " (0.0, 'whether'),\n",
              " (0.0, 'wherev'),\n",
              " (0.0, 'whatsoev'),\n",
              " (0.0, 'whatev'),\n",
              " (0.0, 'what'),\n",
              " (0.0, 'werent'),\n",
              " (0.0, 'went'),\n",
              " (0.0, 'wellfor'),\n",
              " (0.0, 'wellfew'),\n",
              " (0.0, 'well'),\n",
              " (0.0, 'welcom'),\n",
              " (0.0, 'weird'),\n",
              " (0.0, 'weightsmal'),\n",
              " (0.0, 'weightbeliev'),\n",
              " (0.0, 'weight'),\n",
              " (0.0, 'weigh'),\n",
              " (0.0, 'weeksth'),\n",
              " (0.0, 'websit'),\n",
              " (0.0, 'webplay'),\n",
              " (0.0, 'webalso'),\n",
              " (0.0, 'web'),\n",
              " (0.0, 'weather'),\n",
              " (0.0, 'wear'),\n",
              " (0.0, 'weak'),\n",
              " (0.0, 'waterproofsandpfoof'),\n",
              " (0.0, 'waterproof'),\n",
              " (0.0, 'water'),\n",
              " (0.0, 'watch'),\n",
              " (0.0, 'wast'),\n",
              " (0.0, 'wash'),\n",
              " (0.0, 'warranti'),\n",
              " (0.0, 'warrante'),\n",
              " (0.0, 'warmer'),\n",
              " (0.0, 'warm'),\n",
              " (0.0, 'warehous'),\n",
              " (0.0, 'war'),\n",
              " (0.0, 'wantso'),\n",
              " (0.0, 'wall'),\n",
              " (0.0, 'wake'),\n",
              " (0.0, 'wait'),\n",
              " (0.0, 'w'),\n",
              " (0.0, 'vveri'),\n",
              " (0.0, 'vulner'),\n",
              " (0.0, 'vs'),\n",
              " (0.0, 'voyagethi'),\n",
              " (0.0, 'vox'),\n",
              " (0.0, 'voraci'),\n",
              " (0.0, 'volum'),\n",
              " (0.0, 'visual'),\n",
              " (0.0, 'visit'),\n",
              " (0.0, 'vision'),\n",
              " (0.0, 'visibl'),\n",
              " (0.0, 'visa'),\n",
              " (0.0, 'vintag'),\n",
              " (0.0, 'view'),\n",
              " (0.0, 'video'),\n",
              " (0.0, 'via'),\n",
              " (0.0, 'veryveri'),\n",
              " (0.0, 'versu'),\n",
              " (0.0, 'versatil'),\n",
              " (0.0, 'verit'),\n",
              " (0.0, 'ver'),\n",
              " (0.0, 'venu'),\n",
              " (0.0, 'vast'),\n",
              " (0.0, 'variou'),\n",
              " (0.0, 'variabl'),\n",
              " (0.0, 'vari'),\n",
              " (0.0, 'valuabl'),\n",
              " (0.0, 'valu'),\n",
              " (0.0, 'vacat'),\n",
              " (0.0, 'utub'),\n",
              " (0.0, 'util'),\n",
              " (0.0, 'usual'),\n",
              " (0.0, 'usework'),\n",
              " (0.0, 'usesmal'),\n",
              " (0.0, 'userfriendli'),\n",
              " (0.0, 'user'),\n",
              " (0.0, 'usegreat'),\n",
              " (0.0, 'usefuloveral'),\n",
              " (0.0, 'useeasi'),\n",
              " (0.0, 'usebatteri'),\n",
              " (0.0, 'use'),\n",
              " (0.0, 'usd'),\n",
              " ...]"
            ]
          },
          "metadata": {
            "tags": []
          },
          "execution_count": 190
        }
      ]
    },
    {
      "cell_type": "code",
      "metadata": {
        "id": "1U4C78_j5Qrm",
        "outputId": "18b82e08-830d-4b68-eea8-60506694eeec",
        "colab": {
          "base_uri": "https://localhost:8080/",
          "height": 71
        }
      },
      "source": [
        "precision, recall, fscore , support = score(y_test,y_pred,average='binary')\n",
        "print('Precision: {}'.format(round(precision,3)))\n",
        "print('Recall :{}'.format(round(recall,3)))\n",
        "print('Accuracy {} '.format(round((y_pred==y_test).sum()/len(y_test),3)))"
      ],
      "execution_count": 191,
      "outputs": [
        {
          "output_type": "stream",
          "text": [
            "Precision: 0.978\n",
            "Recall :1.0\n",
            "Accuracy 0.978 \n"
          ],
          "name": "stdout"
        }
      ]
    },
    {
      "cell_type": "code",
      "metadata": {
        "id": "9FSNQVdf5Qrp",
        "outputId": "2dc8c5a9-9fd7-4bab-f224-fbf0a40020ca",
        "colab": {
          "base_uri": "https://localhost:8080/",
          "height": 629
        }
      },
      "source": [
        "comments.info()\n",
        "kindle.info()\n"
      ],
      "execution_count": 192,
      "outputs": [
        {
          "output_type": "stream",
          "text": [
            "<class 'pandas.core.frame.DataFrame'>\n",
            "Int64Index: 3176 entries, 17214 to 20389\n",
            "Data columns (total 7 columns):\n",
            " #   Column      Non-Null Count  Dtype  \n",
            "---  ------      --------------  -----  \n",
            " 0   text        3176 non-null   object \n",
            " 1   rating      3176 non-null   float64\n",
            " 2   recommend   3176 non-null   object \n",
            " 3   Sentiment   3176 non-null   object \n",
            " 4   length      3176 non-null   int64  \n",
            " 5   target_rec  3176 non-null   int64  \n",
            " 6   sentiment   3176 non-null   float64\n",
            "dtypes: float64(2), int64(2), object(3)\n",
            "memory usage: 358.5+ KB\n",
            "<class 'pandas.core.frame.DataFrame'>\n",
            "Int64Index: 3176 entries, 17214 to 20389\n",
            "Data columns (total 13 columns):\n",
            " #   Column        Non-Null Count  Dtype              \n",
            "---  ------        --------------  -----              \n",
            " 0   name          3176 non-null   object             \n",
            " 1   asins         3176 non-null   object             \n",
            " 2   brand         3176 non-null   object             \n",
            " 3   categories    3176 non-null   object             \n",
            " 4   keys          3176 non-null   object             \n",
            " 5   manufacturer  3176 non-null   object             \n",
            " 6   date          3176 non-null   object             \n",
            " 7   doRecommend   3176 non-null   object             \n",
            " 8   numHelpful    3176 non-null   float64            \n",
            " 9   rating        3176 non-null   float64            \n",
            " 10  text          3176 non-null   object             \n",
            " 11  title         3176 non-null   object             \n",
            " 12  temp          3176 non-null   datetime64[ns, UTC]\n",
            "dtypes: datetime64[ns, UTC](1), float64(2), object(10)\n",
            "memory usage: 507.4+ KB\n"
          ],
          "name": "stdout"
        }
      ]
    },
    {
      "cell_type": "code",
      "metadata": {
        "id": "KiI51WI85Qrt"
      },
      "source": [
        "prod_name = kindle['name'].unique()\n",
        "prod_name = prod_name[0]"
      ],
      "execution_count": 193,
      "outputs": []
    },
    {
      "cell_type": "code",
      "metadata": {
        "id": "JsURgCO_5Qrx"
      },
      "source": [
        "prod_cat = kindle.categories[kindle['name'] == prod_name]\n",
        "prod_cat = prod_cat.unique()"
      ],
      "execution_count": 194,
      "outputs": []
    },
    {
      "cell_type": "code",
      "metadata": {
        "id": "44-FItFV5Qr1"
      },
      "source": [
        "# ## 7. Recommendations"
      ],
      "execution_count": 195,
      "outputs": []
    },
    {
      "cell_type": "code",
      "metadata": {
        "id": "kV5-ZnIb5Qr4",
        "outputId": "e27c2a2b-c885-45c2-e839-9568e53425fb",
        "colab": {
          "base_uri": "https://localhost:8080/",
          "height": 163
        }
      },
      "source": [
        "products = recommended_products()\n",
        "j = 1\n",
        "print('Close recommendations are:\\n ')\n",
        "for i in products:\n",
        "    print(j,'.',i)\n",
        "    j = j+1"
      ],
      "execution_count": 196,
      "outputs": [
        {
          "output_type": "stream",
          "text": [
            "Close recommendations are:\n",
            " \n",
            "1 . fire hd 8 tablet alexa 8 hd display 32 gb tangerine special offer\n",
            "2 . amazon 5w usb official oem charger power adapter fire tablet kindle ereaders amazon 5w usb official oem charger power adapter fire tablet kindle ereaders\n",
            "3 . fire kid edition tablet 7 display wifi 16 gb green kidproof case\n",
            "4 . amazon kindle paperwhite ebook reader 4 gb 6 monochrome paperwhite touchscreen wifi black\n",
            "5 . kindle voyage ereader 6 highresolution display 300 ppi adaptive builtin light pagepress sensor wifi includes special offer\n"
          ],
          "name": "stdout"
        }
      ]
    },
    {
      "cell_type": "code",
      "metadata": {
        "id": "ZrWSdSb15Qr6"
      },
      "source": [
        ""
      ],
      "execution_count": 196,
      "outputs": []
    },
    {
      "cell_type": "code",
      "metadata": {
        "id": "qZn1mIH05Qr9"
      },
      "source": [
        ""
      ],
      "execution_count": 196,
      "outputs": []
    }
  ]
}